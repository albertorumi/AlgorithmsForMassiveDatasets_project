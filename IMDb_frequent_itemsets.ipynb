{
  "nbformat": 4,
  "nbformat_minor": 0,
  "metadata": {
    "colab": {
      "name": "IMDb_frequent_itemsets.ipynb",
      "provenance": [],
      "collapsed_sections": [
        "DuyG3kZGpDzi",
        "HxQo6uoCLOQA",
        "paXd4TGBXD9-",
        "T4dGfJa9XHYN",
        "H3jFe6fSkZ1B",
        "jN-XuPqxpUt8",
        "n5zWEu0Bppm6",
        "HUZVKqpurBPZ",
        "WuVWX3G0zYqe",
        "3BHWhaC3q31X",
        "XAltvxAdLoUb",
        "zcszJIjwxZCO",
        "sauGFehhxeLF",
        "MVJKon1RJGTZ",
        "D664kHwVdvTL",
        "aiPM65eSDkkz",
        "q8hop9qFfYoe",
        "HxvqpFsAfVdS",
        "lkP9LImTfQGw",
        "OqEX4sHBrJXc",
        "ll5PWXYywnq5",
        "B-B2OWhTtwfb",
        "O6N0r4h0xhNf",
        "m_WR-AUylh5I",
        "sicljmszl0s9",
        "U00kxcs4nHKF",
        "7BRNV7Ga2Yu2",
        "xMfsSSsCdssh",
        "Z7JQ6YWe-KRE",
        "Ar4Z17oF-OjE",
        "KNqeRFNu-RaO",
        "VK42o7k4_fDc",
        "0P2lZayMErQA"
      ],
      "mount_file_id": "1N3vv2XjIWrh5cimQlBHdZm5ci9EFGoGY",
      "authorship_tag": "ABX9TyMwTW1yIQAA4Q5aATepXzIa",
      "include_colab_link": true
    },
    "kernelspec": {
      "display_name": "Python 3",
      "name": "python3"
    },
    "language_info": {
      "name": "python"
    }
  },
  "cells": [
    {
      "cell_type": "markdown",
      "metadata": {
        "id": "view-in-github",
        "colab_type": "text"
      },
      "source": [
        "<a href=\"https://colab.research.google.com/github/albertorumi/AlgorithmsForMassiveDatasets_project/blob/main/IMDb_frequent_itemsets.ipynb\" target=\"_parent\"><img src=\"https://colab.research.google.com/assets/colab-badge.svg\" alt=\"Open In Colab\"/></a>"
      ]
    },
    {
      "cell_type": "code",
      "metadata": {
        "colab": {
          "resources": {
            "http://localhost:8080/nbextensions/google.colab/files.js": {
              "data": "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",
              "ok": true,
              "headers": [
                [
                  "content-type",
                  "application/javascript"
                ]
              ],
              "status": 200,
              "status_text": ""
            }
          },
          "base_uri": "https://localhost:8080/",
          "height": 73
        },
        "id": "QJ2XwXhKfYEs",
        "outputId": "c6bde1e4-a499-4070-f7c5-77d67ef873b0"
      },
      "source": [
        "import os\n",
        "import pandas as pd\n",
        "import numpy as np\n",
        "import sys\n",
        "import itertools as it\n",
        "import math \n",
        "from google.colab import files\n",
        "import matplotlib.pyplot as plt\n",
        "import array as arr\n",
        "import time\n",
        "import csv\n",
        "\n",
        "files.upload()\n",
        "os.environ['KAGGLE_CONFIG_DIR'] = '/content'"
      ],
      "execution_count": null,
      "outputs": [
        {
          "output_type": "display_data",
          "data": {
            "text/html": [
              "\n",
              "     <input type=\"file\" id=\"files-a23f47f7-f072-4950-b11a-0d62cc8174d3\" name=\"files[]\" multiple disabled\n",
              "        style=\"border:none\" />\n",
              "     <output id=\"result-a23f47f7-f072-4950-b11a-0d62cc8174d3\">\n",
              "      Upload widget is only available when the cell has been executed in the\n",
              "      current browser session. Please rerun this cell to enable.\n",
              "      </output>\n",
              "      <script src=\"/nbextensions/google.colab/files.js\"></script> "
            ],
            "text/plain": [
              "<IPython.core.display.HTML object>"
            ]
          },
          "metadata": {
            "tags": []
          }
        },
        {
          "output_type": "stream",
          "text": [
            "Saving kaggle.json to kaggle.json\n"
          ],
          "name": "stdout"
        }
      ]
    },
    {
      "cell_type": "code",
      "metadata": {
        "id": "d5NDTKV6e3gJ"
      },
      "source": [
        "!pip install bitarray\n",
        "!pip install ipython-autotime\n",
        "\n",
        "%load_ext autotime\n",
        "\n",
        "!kaggle datasets download -d ashirwadsangwan/imdb-dataset\n",
        "!unzip ./imdb-dataset.zip && rm ./imdb-dataset.zip"
      ],
      "execution_count": null,
      "outputs": []
    },
    {
      "cell_type": "markdown",
      "metadata": {
        "id": "DuyG3kZGpDzi"
      },
      "source": [
        "# Loading data and preprocessing"
      ]
    },
    {
      "cell_type": "code",
      "metadata": {
        "colab": {
          "base_uri": "https://localhost:8080/"
        },
        "id": "v8Yo6I_bZXfp",
        "outputId": "31d9d3b0-a6f0-4306-bde7-9ed6de92b5b3"
      },
      "source": [
        "df_visual = pd.read_csv('./title.principals.tsv/title.principals.tsv',  \n",
        "                        usecols= ['tconst','nconst','category'], \n",
        "                        sep='\\t').sort_values(by=['tconst'])\n",
        "df_visual.head()"
      ],
      "execution_count": null,
      "outputs": [
        {
          "output_type": "execute_result",
          "data": {
            "text/html": [
              "<div>\n",
              "<style scoped>\n",
              "    .dataframe tbody tr th:only-of-type {\n",
              "        vertical-align: middle;\n",
              "    }\n",
              "\n",
              "    .dataframe tbody tr th {\n",
              "        vertical-align: top;\n",
              "    }\n",
              "\n",
              "    .dataframe thead th {\n",
              "        text-align: right;\n",
              "    }\n",
              "</style>\n",
              "<table border=\"1\" class=\"dataframe\">\n",
              "  <thead>\n",
              "    <tr style=\"text-align: right;\">\n",
              "      <th></th>\n",
              "      <th>tconst</th>\n",
              "      <th>nconst</th>\n",
              "      <th>category</th>\n",
              "    </tr>\n",
              "  </thead>\n",
              "  <tbody>\n",
              "    <tr>\n",
              "      <th>0</th>\n",
              "      <td>tt0000001</td>\n",
              "      <td>nm1588970</td>\n",
              "      <td>self</td>\n",
              "    </tr>\n",
              "    <tr>\n",
              "      <th>1</th>\n",
              "      <td>tt0000001</td>\n",
              "      <td>nm0005690</td>\n",
              "      <td>director</td>\n",
              "    </tr>\n",
              "    <tr>\n",
              "      <th>2</th>\n",
              "      <td>tt0000001</td>\n",
              "      <td>nm0374658</td>\n",
              "      <td>cinematographer</td>\n",
              "    </tr>\n",
              "    <tr>\n",
              "      <th>3</th>\n",
              "      <td>tt0000002</td>\n",
              "      <td>nm0721526</td>\n",
              "      <td>director</td>\n",
              "    </tr>\n",
              "    <tr>\n",
              "      <th>4</th>\n",
              "      <td>tt0000002</td>\n",
              "      <td>nm1335271</td>\n",
              "      <td>composer</td>\n",
              "    </tr>\n",
              "  </tbody>\n",
              "</table>\n",
              "</div>"
            ],
            "text/plain": [
              "      tconst     nconst         category\n",
              "0  tt0000001  nm1588970             self\n",
              "1  tt0000001  nm0005690         director\n",
              "2  tt0000001  nm0374658  cinematographer\n",
              "3  tt0000002  nm0721526         director\n",
              "4  tt0000002  nm1335271         composer"
            ]
          },
          "metadata": {
            "tags": []
          },
          "execution_count": 5
        },
        {
          "output_type": "stream",
          "text": [
            "time: 58.9 s (started: 2021-06-16 07:19:08 +00:00)\n"
          ],
          "name": "stdout"
        }
      ]
    },
    {
      "cell_type": "code",
      "metadata": {
        "colab": {
          "base_uri": "https://localhost:8080/"
        },
        "id": "sXZ0_HBBofTN",
        "outputId": "8ff2eb46-8a9a-4ac3-c81a-9e84a25d41f8"
      },
      "source": [
        "#names = pd.read_csv('./name.basics.tsv/name.basics.tsv',   \n",
        "#                        usecols= ['tconst','nconst','category'], \n",
        "#                        sep='\\t')\n",
        "films = pd.read_csv('./title.basics.tsv/title.basics.tsv',   \n",
        "                        usecols= ['tconst','titleType'], \n",
        "                        sep='\\t')\n",
        "films.head()"
      ],
      "execution_count": null,
      "outputs": [
        {
          "output_type": "execute_result",
          "data": {
            "text/html": [
              "<div>\n",
              "<style scoped>\n",
              "    .dataframe tbody tr th:only-of-type {\n",
              "        vertical-align: middle;\n",
              "    }\n",
              "\n",
              "    .dataframe tbody tr th {\n",
              "        vertical-align: top;\n",
              "    }\n",
              "\n",
              "    .dataframe thead th {\n",
              "        text-align: right;\n",
              "    }\n",
              "</style>\n",
              "<table border=\"1\" class=\"dataframe\">\n",
              "  <thead>\n",
              "    <tr style=\"text-align: right;\">\n",
              "      <th></th>\n",
              "      <th>tconst</th>\n",
              "      <th>titleType</th>\n",
              "    </tr>\n",
              "  </thead>\n",
              "  <tbody>\n",
              "    <tr>\n",
              "      <th>0</th>\n",
              "      <td>tt0000001</td>\n",
              "      <td>short</td>\n",
              "    </tr>\n",
              "    <tr>\n",
              "      <th>1</th>\n",
              "      <td>tt0000002</td>\n",
              "      <td>short</td>\n",
              "    </tr>\n",
              "    <tr>\n",
              "      <th>2</th>\n",
              "      <td>tt0000003</td>\n",
              "      <td>short</td>\n",
              "    </tr>\n",
              "    <tr>\n",
              "      <th>3</th>\n",
              "      <td>tt0000004</td>\n",
              "      <td>short</td>\n",
              "    </tr>\n",
              "    <tr>\n",
              "      <th>4</th>\n",
              "      <td>tt0000005</td>\n",
              "      <td>short</td>\n",
              "    </tr>\n",
              "  </tbody>\n",
              "</table>\n",
              "</div>"
            ],
            "text/plain": [
              "      tconst titleType\n",
              "0  tt0000001     short\n",
              "1  tt0000002     short\n",
              "2  tt0000003     short\n",
              "3  tt0000004     short\n",
              "4  tt0000005     short"
            ]
          },
          "metadata": {
            "tags": []
          },
          "execution_count": 6
        },
        {
          "output_type": "stream",
          "text": [
            "time: 10.3 s (started: 2021-06-16 07:20:07 +00:00)\n"
          ],
          "name": "stdout"
        }
      ]
    },
    {
      "cell_type": "code",
      "metadata": {
        "id": "k0wuxMxspcBM",
        "colab": {
          "base_uri": "https://localhost:8080/"
        },
        "outputId": "794de88c-a42d-4dfa-b24e-b51eb0b6e8e8"
      },
      "source": [
        "movies = set(films[films['titleType'] == 'movie']['tconst'])\n",
        "df_only_films = df_visual[df_visual['tconst'].isin(movies)]"
      ],
      "execution_count": null,
      "outputs": [
        {
          "output_type": "stream",
          "text": [
            "time: 4.48 s (started: 2021-06-16 07:20:17 +00:00)\n"
          ],
          "name": "stdout"
        }
      ]
    },
    {
      "cell_type": "code",
      "metadata": {
        "id": "_kv1DWPdrcbX",
        "colab": {
          "base_uri": "https://localhost:8080/"
        },
        "outputId": "9ea3a845-79c3-437d-b8d9-11e4709d1522"
      },
      "source": [
        "df_films_actors = df_only_films[df_only_films['category'].isin(['actor', 'actress'])]"
      ],
      "execution_count": null,
      "outputs": [
        {
          "output_type": "stream",
          "text": [
            "time: 232 ms (started: 2021-06-16 07:20:22 +00:00)\n"
          ],
          "name": "stdout"
        }
      ]
    },
    {
      "cell_type": "code",
      "metadata": {
        "id": "EynSLiGmsRLT",
        "colab": {
          "base_uri": "https://localhost:8080/"
        },
        "outputId": "dd599ed2-371a-4e91-8a28-5dd169d6a0cb"
      },
      "source": [
        "del films"
      ],
      "execution_count": null,
      "outputs": [
        {
          "output_type": "stream",
          "text": [
            "time: 1.75 ms (started: 2021-06-16 07:20:22 +00:00)\n"
          ],
          "name": "stdout"
        }
      ]
    },
    {
      "cell_type": "markdown",
      "metadata": {
        "id": "HxQo6uoCLOQA"
      },
      "source": [
        "# Functions used in the whole code"
      ]
    },
    {
      "cell_type": "code",
      "metadata": {
        "id": "qOHhp3FKLWX3",
        "colab": {
          "base_uri": "https://localhost:8080/"
        },
        "outputId": "bd9c8747-0ae3-4672-ad81-1d29320f2f13"
      },
      "source": [
        "def make_subsets(curr_set, n):\n",
        "  \"\"\"\n",
        "  Returns all the possible collections of n elements from the curr_set. Each \n",
        "  element of the result is itself sorted.\n",
        "\n",
        "    Parameters\n",
        "    ----------\n",
        "    curr_set: set\n",
        "      set of items\n",
        "    n: int\n",
        "      cardinality of each element of the result \n",
        "    \n",
        "    Returns\n",
        "    -------\n",
        "    list\n",
        "      the list containing all the possible collections of n elements from the curr_set\n",
        "\n",
        "  \"\"\"\n",
        "  res = set()\n",
        "  if len(curr_set) <= 1:\n",
        "    return {}\n",
        "  if isinstance(list(curr_set)[0], tuple):\n",
        "    curr_set = set(it.chain(*curr_set))\n",
        "  for i in it.combinations(curr_set, n):\n",
        "    res.add(tuple(sorted(i)))\n",
        "\n",
        "  return res  "
      ],
      "execution_count": null,
      "outputs": [
        {
          "output_type": "stream",
          "text": [
            "time: 47.4 ms (started: 2021-06-16 07:20:22 +00:00)\n"
          ],
          "name": "stdout"
        }
      ]
    },
    {
      "cell_type": "code",
      "metadata": {
        "id": "63WBc1BarQ94",
        "colab": {
          "base_uri": "https://localhost:8080/"
        },
        "outputId": "31bc60aa-9135-4973-887b-1991b50bfbc3"
      },
      "source": [
        "def sample_dataset(path, p):\n",
        "  \"\"\"\n",
        "  Sample the dataset with the given probability.\n",
        "\n",
        "  Parameters\n",
        "  ----------\n",
        "\n",
        "  path: string\n",
        "    string contatining the path of the full data set\n",
        "  \n",
        "  p: float\n",
        "    probability for each busket of being taken into account\n",
        "  \n",
        "  Returns\n",
        "  -------\n",
        "\n",
        "  (pandas.DataFrame, int)\n",
        "    the dataframe sampled,\n",
        "    an integer counting the number of titles taken into the sample\n",
        "  \"\"\"\n",
        "  with open(path, 'r') as in_file:\n",
        "    file_reader = csv.reader(in_file, delimiter='\\t')\n",
        "    header = next(file_reader)\n",
        "    curr_film = \"\"\n",
        "    data = {'tconst':[],\n",
        "            'nconst':[]}\n",
        "    films = []\n",
        "    actors = []\n",
        "    temp_films = []\n",
        "    temp_actors = []\n",
        "    num_titles = 0\n",
        "    for line in file_reader: \n",
        "      if curr_film == line[0]:\n",
        "        temp_films.append(line[0])\n",
        "        temp_actors.append(line[2])\n",
        "      else:\n",
        "        if np.random.uniform() <= p:\n",
        "          data['tconst'].extend(temp_films)\n",
        "          data['nconst'].extend(temp_actors)\n",
        "        curr_film = line[0]\n",
        "        temp_films = [line[0]]\n",
        "        temp_actors = [line[2]]\n",
        "        num_titles += 1\n",
        "    if np.random.uniform() <= p:\n",
        "      data['tconst'].extend(temp_films)\n",
        "      data['nconst'].extend(temp_actors)\n",
        "  return (pd.DataFrame(data), num_titles)"
      ],
      "execution_count": null,
      "outputs": [
        {
          "output_type": "stream",
          "text": [
            "time: 25.7 ms (started: 2021-06-16 07:20:22 +00:00)\n"
          ],
          "name": "stdout"
        }
      ]
    },
    {
      "cell_type": "code",
      "metadata": {
        "id": "CUxRkkV3rwLm",
        "colab": {
          "base_uri": "https://localhost:8080/"
        },
        "outputId": "8b3dd297-426c-4fd9-c6ec-f8ee7edff557"
      },
      "source": [
        "def remove_false_positives(path, res, p, num_titles, st, triplets):\n",
        "  \"\"\"\n",
        "  Remove false positives from result loading consecutive partitions \n",
        "  of lenght p * num_titles\n",
        "\n",
        "  Parameters\n",
        "  ----------\n",
        "\n",
        "  path: string\n",
        "    string contatining the path of the full data set\n",
        "  \n",
        "  res: dict\n",
        "    the frequent itemset result from the sample\n",
        "  \n",
        "  num_titles: int\n",
        "    number of titles into the sample\n",
        "\n",
        "  st: float\n",
        "    original support threshold\n",
        "  \n",
        "  triplets: bool\n",
        "    set to true if we want to check triplets (a-priori)\n",
        "\n",
        "  Returns\n",
        "  -------\n",
        "\n",
        "  set\n",
        "    the set containing the result without false positives\n",
        "  \"\"\"\n",
        "  check_count = dict()\n",
        "\n",
        "  with open(path, 'r') as in_file:\n",
        "    file_reader = csv.reader(in_file, delimiter='\\t')\n",
        "    header = next(file_reader)\n",
        "\n",
        "    curr_film = \"\"\n",
        "    data = {'tconst':[],\n",
        "            'nconst':[]}\n",
        "    temp_films = []\n",
        "    temp_actors = []\n",
        "    temp_counter = int(num_titles * p)          # Temp counter counts partitions with number of films\n",
        "    for line in file_reader:                    # for all the data\n",
        "      if curr_film == line[0]:\n",
        "        temp_films.append(line[0])\n",
        "        temp_actors.append(line[2])\n",
        "      else:\n",
        "        data['tconst'].extend(temp_films)\n",
        "        data['nconst'].extend(temp_actors)\n",
        "        curr_film = line[0]\n",
        "        temp_films = [line[0]]\n",
        "        temp_actors = [line[2]]\n",
        "        temp_counter -= 1\n",
        "        if temp_counter == 0:                   # Compute this partition...\n",
        "          df_part = pd.DataFrame(data)\n",
        "          curr_film_part = \"\"\n",
        "          curr_basket = set()\n",
        "          for film, actor in zip(df_part['tconst'], df_part['nconst']): \n",
        "            if curr_film_part == film:\n",
        "              curr_basket.add(actor)\n",
        "            else:\n",
        "              for i in make_subsets(curr_basket, 2 + int(triplets)):\n",
        "                if i in res:\n",
        "                  if i in check_count:\n",
        "                    check_count[i] += 1\n",
        "                  else:\n",
        "                    check_count[i] = 1\n",
        "              curr_film_part = film \n",
        "              curr_basket = set([actor])\n",
        "          # Last film\n",
        "          for i in make_subsets(curr_basket, 2 + int(triplets)):\n",
        "            if i in res:\n",
        "              if i in check_count:\n",
        "                check_count[i] += 1\n",
        "              else:\n",
        "                check_count[i] = 1\n",
        "          del df_part                                       # free partition\n",
        "          temp_counter = int(num_titles * p)\n",
        "          data['tconst'] = temp_films\n",
        "          data['nconst'] = temp_actors\n",
        "          temp_films = []\n",
        "          temp_actors = []\n",
        "    # last partition\n",
        "    data['tconst'].extend(temp_films)\n",
        "    data['nconst'].extend(temp_actors)\n",
        "    df_part = pd.DataFrame(data)\n",
        "    curr_film_part = \"\"\n",
        "    curr_basket = set()\n",
        "    for film, actor in zip(df_part['tconst'], df_part['nconst']): \n",
        "      if curr_film_part == film:\n",
        "        curr_basket.add(actor)\n",
        "      else:\n",
        "        pairs = make_subsets(curr_basket, 2 + int(triplets))\n",
        "        for i in pairs:\n",
        "          if i in res:\n",
        "            if i in check_count:\n",
        "              check_count[i] += 1\n",
        "            else:\n",
        "              check_count[i] = 1\n",
        "        curr_film_part = film \n",
        "        curr_basket = set([actor])\n",
        "    for i in make_subsets(curr_basket, 2 + int(triplets)):\n",
        "      if i in res:\n",
        "        if i in check_count:\n",
        "          check_count[i] += 1\n",
        "        else:\n",
        "          check_count[i] = 1\n",
        "    del df_part  \n",
        "  \n",
        "  new_res = set()\n",
        "\n",
        "  for i in res:\n",
        "    if i in check_count:\n",
        "      if check_count[i] >= st:\n",
        "        new_res.add(i)\n",
        "\n",
        "  return new_res"
      ],
      "execution_count": null,
      "outputs": [
        {
          "output_type": "stream",
          "text": [
            "time: 88.4 ms (started: 2021-06-16 07:20:22 +00:00)\n"
          ],
          "name": "stdout"
        }
      ]
    },
    {
      "cell_type": "markdown",
      "metadata": {
        "id": "paXd4TGBXD9-"
      },
      "source": [
        "# **A Priori**"
      ]
    },
    {
      "cell_type": "markdown",
      "metadata": {
        "id": "T4dGfJa9XHYN"
      },
      "source": [
        "### First pass"
      ]
    },
    {
      "cell_type": "code",
      "metadata": {
        "id": "yY4i42CHmug5",
        "colab": {
          "base_uri": "https://localhost:8080/"
        },
        "outputId": "2a291c8d-9030-4070-c98e-1724d3ac6760"
      },
      "source": [
        "def first_pass(df):\n",
        "  \"\"\"\n",
        "  A priori algorithm implementation of the first pass.\n",
        "\n",
        "    Parameters\n",
        "    ----------\n",
        "    df: pandas.DataFrame\n",
        "      The dataframe containing the data\n",
        "\n",
        "    Returns\n",
        "    -------\n",
        "    (dict, dict, dict)\n",
        "        the absolute frequency of singletons, \n",
        "        the dict containing the mapping from stringID to int, \n",
        "        the dict containing the mapping from int to stringID\n",
        "  \"\"\"\n",
        "  dict_string_to_int = dict()\n",
        "  i = 1\n",
        "  abs_freq = dict()\n",
        "  inverse_one = dict()\n",
        "  for film, actorID in zip(df['tconst'], df['nconst']):\n",
        "    if actorID not in dict_string_to_int:\n",
        "      dict_string_to_int[actorID] = i\n",
        "      inverse_one[i] = actorID\n",
        "      i += 1\n",
        "    actor = dict_string_to_int[actorID]\n",
        "    if actor in abs_freq: \n",
        "      abs_freq[actor]+= 1\n",
        "    else:                 \n",
        "      abs_freq[actor] = 1\n",
        "  return (abs_freq, dict_string_to_int ,inverse_one)"
      ],
      "execution_count": null,
      "outputs": [
        {
          "output_type": "stream",
          "text": [
            "time: 12.2 ms (started: 2021-06-16 07:20:22 +00:00)\n"
          ],
          "name": "stdout"
        }
      ]
    },
    {
      "cell_type": "markdown",
      "metadata": {
        "id": "H3jFe6fSkZ1B"
      },
      "source": [
        "### Second pass\n",
        "\n"
      ]
    },
    {
      "cell_type": "code",
      "metadata": {
        "id": "m1Ysh4jiq2Kf",
        "colab": {
          "base_uri": "https://localhost:8080/"
        },
        "outputId": "804a2c4b-1347-452f-9124-611ed6a99219"
      },
      "source": [
        "def second_pass(df, candidates, hash_table, support_threshold):\n",
        "  \"\"\"\n",
        "  A priori algorithm implementation of the second pass.\n",
        "\n",
        "    Parameters\n",
        "    ----------\n",
        "    df: pandas.DataFrame\n",
        "      The dataframe containing the data\n",
        "    \n",
        "    candidates: dict\n",
        "      The dictionary containing frequent singletons\n",
        "\n",
        "    hash_table: dict\n",
        "      dictionary contaning the mapping from string ID to int ID\n",
        "\n",
        "    support_threshold: int\n",
        "      Support threshold to apply to the whole dataset\n",
        "\n",
        "    Returns\n",
        "    -------\n",
        "    dict\n",
        "        dictionary containing candidate frequent pairs as key and its absolute frequency as value,\n",
        "  \"\"\"\n",
        "  counting_triplets = dict()\n",
        "  curr_film = df.iloc[0][0]\n",
        "  curr_basket = set();\n",
        "  for film, actorID in zip(df['tconst'], df['nconst']): \n",
        "    actor = hash_table[actorID]\n",
        "    if curr_film == film:\n",
        "      if actor in candidates:    # if it is frequent as singleton\n",
        "        curr_basket.add(actor)\n",
        "    # Collect all actors of a film before counting pairs, only the candidates ones\n",
        "    else:\n",
        "      # Switch film to the next one and count the pairs\n",
        "      pairs = make_subsets(curr_basket, 2)\n",
        "      for pair in pairs:\n",
        "        if pair in counting_triplets:\n",
        "          counting_triplets[pair] += 1\n",
        "        else:\n",
        "          counting_triplets[pair] = 1\n",
        "      curr_film = film \n",
        "      if actor in candidates:\n",
        "        curr_basket = set([actor])\n",
        "      else:\n",
        "        curr_basket = set()\n",
        "  # Last film\n",
        "  pairs = make_subsets(curr_basket, 2)\n",
        "  for pair in pairs:\n",
        "    if pair in counting_triplets:\n",
        "      counting_triplets[pair] += 1\n",
        "    else:\n",
        "      counting_triplets[pair] = 1\n",
        "  return counting_triplets"
      ],
      "execution_count": null,
      "outputs": [
        {
          "output_type": "stream",
          "text": [
            "time: 23.8 ms (started: 2021-06-16 07:20:22 +00:00)\n"
          ],
          "name": "stdout"
        }
      ]
    },
    {
      "cell_type": "markdown",
      "metadata": {
        "id": "jN-XuPqxpUt8"
      },
      "source": [
        "## Third pass"
      ]
    },
    {
      "cell_type": "markdown",
      "metadata": {
        "id": "ZT_EBazzlqrb"
      },
      "source": [
        "If we are searching for frequent pairs we can make the last filtering and we are OK. If we want to analyze also triplets:"
      ]
    },
    {
      "cell_type": "code",
      "metadata": {
        "id": "4ZHGFg9Al3Qi",
        "colab": {
          "base_uri": "https://localhost:8080/"
        },
        "outputId": "6e60aa89-a66f-4e3f-e55e-6ff83fa57a84"
      },
      "source": [
        "def third_pass(df, candidate_pairs, candidates, first_actor_ht, support_threshold):\n",
        "  \"\"\"\n",
        "  A priori algorithm implementation of the third pass.\n",
        "\n",
        "    Parameters\n",
        "    ----------\n",
        "    df: pandas.DataFrame\n",
        "      The dataframe containing the data\n",
        "    \n",
        "    candidate_pairs: dict\n",
        "      The dictionary containing frequent pairs\n",
        "    \n",
        "    candidates: dict\n",
        "      The dictionary containing frequent singletons\n",
        "\n",
        "    first_actor_ht: dict\n",
        "      dictionary contaning the mapping from string ID to int ID\n",
        "\n",
        "    support_threshold: int\n",
        "      Support threshold to apply to the whole dataset\n",
        "\n",
        "    Returns\n",
        "    -------\n",
        "    dict\n",
        "        dictionary containing candidate frequent triplets as key and its absolute frequency as value,\n",
        "  \"\"\"\n",
        "  counting_quartets = dict()\n",
        "  curr_film = df.iloc[0][0]\n",
        "  curr_basket = set();\n",
        "  for film, actorID in zip(df['tconst'], df['nconst']):\n",
        "    actor = first_actor_ht[actorID] \n",
        "    if curr_film == film:\n",
        "      if actor in candidates:\n",
        "        curr_basket.add(actor)\n",
        "    # Collect all actors of films before counting pairs, if they are candidates\n",
        "    else:\n",
        "      # Switch film to the next one and count the pairs\n",
        "      triplets = make_subsets(curr_basket, 3)\n",
        "      for tripl in triplets:\n",
        "        pairs = make_subsets(tripl,2)\n",
        "        flag = True\n",
        "        for i in pairs:\n",
        "          flag = flag and i in candidate_pairs\n",
        "          \n",
        "        if flag:\n",
        "          if tripl in counting_quartets:\n",
        "            counting_quartets[tripl] += 1\n",
        "          else:\n",
        "            counting_quartets[tripl] = 1\n",
        "      curr_film = film\n",
        "      if actor in candidates:      \n",
        "        curr_basket = set([actor])\n",
        "      else:\n",
        "        curr_basket = set()\n",
        "  # Last scan to filter not frequent pairsù\n",
        "  triplets = make_subsets(curr_basket, 3)\n",
        "  for tripl in triplets:\n",
        "    pairs = make_subsets(tripl,2)\n",
        "    flag = True\n",
        "    for i in pairs:\n",
        "      flag = flag and i in candidate_pairs\n",
        "      \n",
        "    if flag:\n",
        "      if tripl in counting_quartets:\n",
        "        counting_quartets[tripl] += 1\n",
        "      else:\n",
        "        counting_quartets[tripl] = 1\n",
        "  return (counting_quartets)"
      ],
      "execution_count": null,
      "outputs": [
        {
          "output_type": "stream",
          "text": [
            "time: 29.3 ms (started: 2021-06-16 07:20:22 +00:00)\n"
          ],
          "name": "stdout"
        }
      ]
    },
    {
      "cell_type": "markdown",
      "metadata": {
        "id": "n5zWEu0Bppm6"
      },
      "source": [
        "## Final Algorithm"
      ]
    },
    {
      "cell_type": "code",
      "metadata": {
        "id": "yQjXQYABgHCR",
        "colab": {
          "base_uri": "https://localhost:8080/"
        },
        "outputId": "2f9718ed-634a-410a-a07b-be2fee89a52c"
      },
      "source": [
        "def a_priori(df, support_threshold, triplets = False):\n",
        "  \"\"\"\n",
        "  A priori algorithm implementation.\n",
        "\n",
        "    Parameters\n",
        "    ----------\n",
        "    df: pandas.DataFrame\n",
        "      The dataframe containing the data\n",
        "    \n",
        "    support_threshold: int\n",
        "      Support threshold to apply to the whole dataset\n",
        "\n",
        "    triplets: bool, optional\n",
        "      set to true if we want to count for triplets\n",
        "\n",
        "    Returns\n",
        "    -------\n",
        "    set\n",
        "        set containing the frequent pairs or triplets with their relative absolute frequency\n",
        "  \"\"\"\n",
        "\n",
        "  (freq, first_actor_ht, inverse) = first_pass(df)\n",
        "  freq = {k:v for (k,v) in freq.items() if v >= support_threshold}    # candidates_singleton\n",
        "  \n",
        "  abs_freq_pair = second_pass(df,freq,first_actor_ht, support_threshold)\n",
        "\n",
        "  print(\"Num Candidates pairs:\" + str(len(abs_freq_pair))) \n",
        "  print(\"Dim: \"+str(sys.getsizeof(abs_freq_pair)) + \" bytes \")\n",
        "\n",
        "  if triplets:\n",
        "\n",
        "    abs_freq_pair = {k:v for (k,v) in abs_freq_pair.items() if v >= support_threshold}    # candidate pairs\n",
        "    abs_freq_triplets = third_pass(df, abs_freq_pair, freq, first_actor_ht, support_threshold)\n",
        "\n",
        "    res = set([((inverse[i[0]], inverse[i[1]], inverse[i[2]]), abs_freq_triplets[i]) for i in abs_freq_triplets if abs_freq_triplets[i] >= support_threshold])\n",
        "\n",
        "    return res\n",
        "  \n",
        "  res = set([((inverse[i[0]], inverse[i[1]]), abs_freq_pair[i]) for i in abs_freq_pair if abs_freq_pair[i] >= support_threshold])\n",
        "\n",
        "  return res"
      ],
      "execution_count": null,
      "outputs": [
        {
          "output_type": "stream",
          "text": [
            "time: 22.7 ms (started: 2021-06-16 07:20:22 +00:00)\n"
          ],
          "name": "stdout"
        }
      ]
    },
    {
      "cell_type": "markdown",
      "metadata": {
        "id": "HUZVKqpurBPZ"
      },
      "source": [
        "### Sampled version"
      ]
    },
    {
      "cell_type": "code",
      "metadata": {
        "id": "YkBe1slnrCwt",
        "colab": {
          "base_uri": "https://localhost:8080/"
        },
        "outputId": "1ac99729-f145-40d0-b10c-039635d7bb2c"
      },
      "source": [
        "def sampled_a_priori(path, support_threshold, p, adjust_st = 0.9, triplets = False):\n",
        "  \"\"\"\n",
        "  Sampled version of the a_priori algorithm\n",
        "\n",
        "  Parameters\n",
        "  ----------\n",
        "\n",
        "  path: string\n",
        "    string contatining the path of the full data set\n",
        "  \n",
        "  support_threshold: int\n",
        "    the support threshold to use in the full dataset\n",
        "  \n",
        "  p: float\n",
        "    probability of each title of being taken into account\n",
        "\n",
        "  adjust_st: float, optional\n",
        "    factor to use in order to adjust support threshold, must be \n",
        "    less than 1, default is 0.9\n",
        "  \n",
        "  triplets: bool, optional\n",
        "    set to true if we want to check triplets\n",
        "\n",
        "  Raises\n",
        "  ------\n",
        "  ValueError\n",
        "    If adjust_st paramenter is more than 1.0\n",
        "\n",
        "  Returns\n",
        "  -------\n",
        "\n",
        "  set\n",
        "    set containing the frequent pairs or triplets\n",
        "  \"\"\"\n",
        "  if adjust_st > 1.0:\n",
        "    raise ValueError(\"Invalid adjustment factor for support threshold\")\n",
        "  (df, nt) = sample_dataset(path, p)\n",
        "  st = adjust_st * p * support_threshold     # Adjust support threshold in order to have less false negatives\n",
        "\n",
        "  res = a_priori(df, st, triplets)          # run a priori on partition\n",
        "\n",
        "  del df\n",
        "\n",
        "  res = set([tuple(sorted(k[0])) for k in res])    # remove count\n",
        "\n",
        "  print(nt)\n",
        "\n",
        "  return remove_false_positives(path, res, p, nt, support_threshold, triplets)    # Remove false positives and return"
      ],
      "execution_count": null,
      "outputs": [
        {
          "output_type": "stream",
          "text": [
            "time: 13.7 ms (started: 2021-06-16 07:20:22 +00:00)\n"
          ],
          "name": "stdout"
        }
      ]
    },
    {
      "cell_type": "markdown",
      "metadata": {
        "id": "WuVWX3G0zYqe"
      },
      "source": [
        "# **PCY**"
      ]
    },
    {
      "cell_type": "code",
      "metadata": {
        "id": "R2lZ0w6K_6H7",
        "colab": {
          "base_uri": "https://localhost:8080/"
        },
        "outputId": "f89574ae-3fcf-4707-e3bf-0e20ff2d2892"
      },
      "source": [
        "from bitarray import bitarray"
      ],
      "execution_count": null,
      "outputs": [
        {
          "output_type": "stream",
          "text": [
            "time: 15.2 ms (started: 2021-06-16 07:20:22 +00:00)\n"
          ],
          "name": "stdout"
        }
      ]
    },
    {
      "cell_type": "markdown",
      "metadata": {
        "id": "94Py5CSqBAXr"
      },
      "source": [
        "For the PCY algorithm we have a similar first pass as the ***a_priori*** algorithm but we also return a PCY Table containing the number of each hashed pair in order to use this as a starting point for the second step."
      ]
    },
    {
      "cell_type": "code",
      "metadata": {
        "id": "6ZQz00Ty-EzZ",
        "colab": {
          "base_uri": "https://localhost:8080/"
        },
        "outputId": "0d7d3c4f-3b96-432e-ee36-a241e51a0ec3"
      },
      "source": [
        "def my_hash_fun(pair, nBuckets):\n",
        "  return ((pair[0]) + (pair[1])) % nBuckets # hash(pair) % nBuckets"
      ],
      "execution_count": null,
      "outputs": [
        {
          "output_type": "stream",
          "text": [
            "time: 1.81 ms (started: 2021-06-16 07:20:22 +00:00)\n"
          ],
          "name": "stdout"
        }
      ]
    },
    {
      "cell_type": "code",
      "metadata": {
        "id": "0SkTjAJKzXwA",
        "colab": {
          "base_uri": "https://localhost:8080/"
        },
        "outputId": "297c4b73-b925-40df-a384-57a5988283f4"
      },
      "source": [
        "def PCY_first_pass(df, support_threshold, hash_fun, n_buckets):\n",
        "  \"\"\"\n",
        "  PCY algorithm implementation of the first pass.\n",
        "\n",
        "    Parameters\n",
        "    ----------\n",
        "    df: pandas.DataFrame\n",
        "      The dataframe containing the data\n",
        "    \n",
        "    support_threshold: int\n",
        "      Support threshold to apply to the whole dataset\n",
        "    \n",
        "    hash_fun: fun(String -> int)\n",
        "      Hash function used to hash the data to buckets in the first pass\n",
        "    \n",
        "    n_buckets: int\n",
        "      Number of buckets the data is hashed to in the first pass\n",
        "\n",
        "    Returns\n",
        "    -------\n",
        "    (dict, dict, dict, dict)\n",
        "        the absolute frequency of singletons, \n",
        "        the hash table containing the hash from stringID to int, \n",
        "        PCY_Table containing the count for each hashed pair, \n",
        "        the hash table containing the hash from int to stringID)\n",
        "  \"\"\"\n",
        "  curr_film = df.iloc[0][0]\n",
        "  curr_basket = set()\n",
        "  hash_table = dict()\n",
        "  PCY_Table = dict()\n",
        "  inverse = dict()\n",
        "  i = 1\n",
        "  abs_freq = dict()\n",
        "  for film, actorID in zip(df['tconst'], df['nconst']): \n",
        "    \n",
        "    # HASHING FROM ACTOR ID TO INT\n",
        "\n",
        "    if actorID not in hash_table:\n",
        "      hash_table[actorID] = i\n",
        "      inverse[i] = actorID\n",
        "      i += 1\n",
        "    actor = hash_table[actorID]\n",
        "    \n",
        "    # COMPUTING SINGLETON FREQ\n",
        "\n",
        "    if actor in abs_freq: \n",
        "      abs_freq[actor]+= 1\n",
        "    else:                 \n",
        "      abs_freq[actor] = 1\n",
        "\n",
        "    if curr_film == film:\n",
        "      curr_basket.add(actor)\n",
        "\n",
        "    # Collect all actors of a film before counting pairs\n",
        "    else:\n",
        "      # Switch film to the next one and count the hashed bucket for each pair\n",
        "      pairs = make_subsets(curr_basket, 2)\n",
        "      for pair in pairs:\n",
        "        hashed_pair = hash_fun(pair, n_buckets) \n",
        "        if hashed_pair in PCY_Table:  \n",
        "          PCY_Table[hashed_pair] += 1\n",
        "        else:\n",
        "          PCY_Table[hashed_pair] = 1\n",
        "      curr_film = film \n",
        "      curr_basket = set([actor])\n",
        "  pairs = make_subsets(curr_basket, 2)\n",
        "  for pair in pairs:\n",
        "    hashed_pair = hash_fun(pair, n_buckets) \n",
        "    if hashed_pair in PCY_Table:  \n",
        "      PCY_Table[hashed_pair] += 1\n",
        "    else:\n",
        "      PCY_Table[hashed_pair] = 1\n",
        "  return (abs_freq, hash_table, PCY_Table, inverse)"
      ],
      "execution_count": null,
      "outputs": [
        {
          "output_type": "stream",
          "text": [
            "time: 31.3 ms (started: 2021-06-16 07:20:22 +00:00)\n"
          ],
          "name": "stdout"
        }
      ]
    },
    {
      "cell_type": "code",
      "metadata": {
        "id": "zwP5Oipm6f-Q",
        "colab": {
          "base_uri": "https://localhost:8080/"
        },
        "outputId": "47c8755b-5ea7-439f-b545-6511a34296cc"
      },
      "source": [
        "def PCY_second_pass(df, bitmap, candidates, hash_table, support_threshold, hash_fun, n_buckets):\n",
        "  \"\"\"\n",
        "  PCY algorithm implementation of the second pass.\n",
        "\n",
        "    Parameters\n",
        "    ----------\n",
        "    df: pandas.DataFrame\n",
        "      The dataframe containing the data\n",
        "    \n",
        "    bitmap: bitarray\n",
        "      bitarray containing for each entry i, 1 if the sum of hash_fun(pair) = i is more than support threshold 0 otherwise\n",
        "    \n",
        "    candidates: set\n",
        "      set of frequent singletons\n",
        "\n",
        "    hash_table: dict\n",
        "      dictionary containing the mapping from string ID to integer ID\n",
        "\n",
        "    support_threshold: int\n",
        "      Support threshold to apply to the whole dataset\n",
        "    \n",
        "    hash_fun: fun(tuple -> int)\n",
        "      Hash function used to hash the data to buckets in the first pass\n",
        "    \n",
        "    n_buckets: int\n",
        "      Number of buckets the data is hashed to\n",
        "\n",
        "    Returns\n",
        "    -------\n",
        "    dict\n",
        "        dictionary containing candidate frequent pairs as key and its absolute frequency as value\n",
        "  \"\"\"\n",
        "  counting_triplets = dict()\n",
        "  curr_film = df.iloc[0][0]\n",
        "  curr_basket = set();\n",
        "  for film, actorID in zip(df['tconst'], df['nconst']): \n",
        "    actor = hash_table[actorID]\n",
        "    if curr_film == film:\n",
        "     if actor in candidates:\n",
        "        curr_basket.add(actor)\n",
        "    # Collect all actors of a film before counting pairs, only the candidates ones\n",
        "    else:\n",
        "      # Switch film to the next one and count the pairs\n",
        "      pairs = make_subsets(curr_basket, 2)\n",
        "      for pair in pairs:\n",
        "        if pair in counting_triplets:\n",
        "          counting_triplets[pair] += 1\n",
        "        else:\n",
        "          if bitmap[hash_fun(pair, n_buckets)] == 1:   # Only if it is hashed to a frequent busket\n",
        "            counting_triplets[pair] = 1\n",
        "      curr_film = film \n",
        "      if actor in candidates:\n",
        "        curr_basket = set([actor])\n",
        "      else:\n",
        "        curr_basket = set()\n",
        "  # Last scan to filter not frequent pairs\n",
        "  pairs = make_subsets(curr_basket, 2)\n",
        "  for pair in pairs:\n",
        "    if pair in counting_triplets:\n",
        "      counting_triplets[pair] += 1\n",
        "    else:\n",
        "      if bitmap[hash_fun(pair, n_buckets)] == 1:   # Only if it is hashed to a frequent busket\n",
        "            counting_triplets[pair] = 1\n",
        "  return counting_triplets"
      ],
      "execution_count": null,
      "outputs": [
        {
          "output_type": "stream",
          "text": [
            "time: 23.8 ms (started: 2021-06-16 07:20:22 +00:00)\n"
          ],
          "name": "stdout"
        }
      ]
    },
    {
      "cell_type": "code",
      "metadata": {
        "id": "YeIQ9gCo98zR",
        "colab": {
          "base_uri": "https://localhost:8080/"
        },
        "outputId": "e37d3be6-c0db-4640-9b36-af8bea9663c5"
      },
      "source": [
        "def PCY(df, support_threshold, hash_fun, n_buckets):\n",
        "  \"\"\"\n",
        "  PCY algorithm implementation for frequent pairs.\n",
        "\n",
        "    Parameters\n",
        "    ----------\n",
        "    df: pandas.DataFrame\n",
        "      The dataframe containing the data\n",
        "\n",
        "    support_threshold: int\n",
        "      Support threshold to apply to the whole dataset\n",
        "    \n",
        "    hash_fun: fun(String -> int)\n",
        "      Hash function used to hash the data to buckets in the first pass\n",
        "    \n",
        "    n_buckets: int\n",
        "      Number of buckets the data is hashed to in the first pass\n",
        "    \n",
        "    Returns\n",
        "    -------\n",
        "    set\n",
        "        a set where each element is a tuple containing the frequent pair and its absolute frequency\n",
        "  \"\"\"\n",
        "  \n",
        "  (freq, hash_table, PCY_Table, inverse) = PCY_first_pass(df, support_threshold, hash_fun, n_buckets)\n",
        "  PCY_bitmap = bitarray(n_buckets)\n",
        "  PCY_bitmap.setall(0)\n",
        "  for bucket in PCY_Table:\n",
        "    if PCY_Table[bucket] >= support_threshold:\n",
        "      PCY_bitmap[bucket] = 1\n",
        "  \n",
        "  del PCY_Table # free mem\n",
        "\n",
        "  freq = {k:v for (k,v) in freq.items() if v >= support_threshold}    # candidates_singleton\n",
        "  abs_freq_pair = PCY_second_pass(df, PCY_bitmap, freq, hash_table, support_threshold, hash_fun, n_buckets)\n",
        "  res = set();\n",
        "\n",
        "  print(\"Num Candidates pairs:\" + str(len(abs_freq_pair)))            # In order to see the number of pairs counter\n",
        "  print(\"Dim: \"+str(sys.getsizeof(abs_freq_pair)))\n",
        "\n",
        "  for i in abs_freq_pair:\n",
        "    if abs_freq_pair[i] >= support_threshold:\n",
        "      pair = (inverse[i[0]], inverse[i[1]])\n",
        "      res.add((pair, abs_freq_pair[i]))\n",
        "  return res"
      ],
      "execution_count": null,
      "outputs": [
        {
          "output_type": "stream",
          "text": [
            "time: 24.7 ms (started: 2021-06-16 07:20:22 +00:00)\n"
          ],
          "name": "stdout"
        }
      ]
    },
    {
      "cell_type": "markdown",
      "metadata": {
        "id": "3BHWhaC3q31X"
      },
      "source": [
        "### Sampled version"
      ]
    },
    {
      "cell_type": "code",
      "metadata": {
        "id": "tHGdhr6tq7iY",
        "colab": {
          "base_uri": "https://localhost:8080/"
        },
        "outputId": "b0b21c2f-1271-4c20-ea87-f91a397fcf01"
      },
      "source": [
        "def sampled_PCY(path, support_threshold, hash_fun, n_buckets, p, adjust_st = 0.9):\n",
        "  \"\"\"\n",
        "  PCY algorithm implementation for frequent pairs.\n",
        "\n",
        "    Parameters\n",
        "    ----------\n",
        "    path: string\n",
        "      string contatining the path of the full data set\n",
        "\n",
        "    support_threshold: int\n",
        "      Support threshold to apply to the whole dataset\n",
        "    \n",
        "    hash_fun: fun(String -> int)\n",
        "      Hash function used to hash the data to buckets in the first pass\n",
        "    \n",
        "    n_buckets: int\n",
        "      Number of buckets data is hashed to\n",
        "    \n",
        "    p: float\n",
        "      probability of each title of being taken into account\n",
        "\n",
        "    adjust_st: float, optional\n",
        "      factor to use in order to adjust support threshold, must be \n",
        "      less than 1, default is 0.9\n",
        "    \n",
        "    Raises\n",
        "    ------\n",
        "     ValueError\n",
        "      If adjust_st paramenter is more than 1.\n",
        "\n",
        "    Returns\n",
        "    -------\n",
        "    set\n",
        "        set containing the frequent pairs\n",
        "  \"\"\"\n",
        "  if adjust_st > 1.0:\n",
        "    raise ValueError(\"Invalid adjustment factor for support threshold\")\n",
        "  (df, nt) = sample_dataset(path, p)\n",
        "  st = adjust_st * p * support_threshold     # Adjust support threshold in order to have less false negatives\n",
        "\n",
        "  res = PCY(df, st, hash_fun, n_buckets)\n",
        "\n",
        "  del df\n",
        "\n",
        "  res = set([tuple(sorted(k[0])) for k in res])    # remove count\n",
        "\n",
        "  print(nt)\n",
        "\n",
        "  return remove_false_positives(path, res, p, nt, support_threshold, False)"
      ],
      "execution_count": null,
      "outputs": [
        {
          "output_type": "stream",
          "text": [
            "time: 10.9 ms (started: 2021-06-16 07:20:22 +00:00)\n"
          ],
          "name": "stdout"
        }
      ]
    },
    {
      "cell_type": "markdown",
      "metadata": {
        "id": "XAltvxAdLoUb"
      },
      "source": [
        "# **SON**"
      ]
    },
    {
      "cell_type": "code",
      "metadata": {
        "colab": {
          "base_uri": "https://localhost:8080/"
        },
        "id": "OWNcA1I1PY-4",
        "outputId": "d0a2ead7-4103-46b7-8887-b6c5ebc91e11"
      },
      "source": [
        "!apt-get install openjdk-8-jdk-headless -qq > /dev/null\n",
        "!wget -q http://www-eu.apache.org/dist/spark/spark-3.1.2/spark-3.1.2-bin-hadoop2.7.tgz\n",
        "!tar xf spark-3.1.2-bin-hadoop2.7.tgz\n",
        "!pip install -q findspark\n",
        "os.environ[\"JAVA_HOME\"] = \"/usr/lib/jvm/java-8-openjdk-amd64\"\n",
        "os.environ[\"SPARK_HOME\"] = \"/content/spark-3.1.2-bin-hadoop2.7\"\n",
        "import findspark\n",
        "findspark.init()# SPARK_HOME\n",
        "from pyspark.sql import SparkSession\n",
        "spark = SparkSession.builder.master(\"local[*]\").config(\"spark.driver.memory\", \"15g\").getOrCreate()\n",
        "import pyspark\n",
        "type(spark)"
      ],
      "execution_count": null,
      "outputs": [
        {
          "output_type": "execute_result",
          "data": {
            "text/plain": [
              "pyspark.sql.session.SparkSession"
            ]
          },
          "metadata": {
            "tags": []
          },
          "execution_count": 24
        },
        {
          "output_type": "stream",
          "text": [
            "time: 44.7 s (started: 2021-06-16 07:20:22 +00:00)\n"
          ],
          "name": "stdout"
        }
      ]
    },
    {
      "cell_type": "code",
      "metadata": {
        "id": "vlOmEb6sN9ko",
        "colab": {
          "base_uri": "https://localhost:8080/"
        },
        "outputId": "8d8a4b93-d5be-4f68-add2-d5bea4076b03"
      },
      "source": [
        "sc = spark.sparkContext"
      ],
      "execution_count": null,
      "outputs": [
        {
          "output_type": "stream",
          "text": [
            "time: 4.74 ms (started: 2021-06-16 07:21:07 +00:00)\n"
          ],
          "name": "stdout"
        }
      ]
    },
    {
      "cell_type": "markdown",
      "metadata": {
        "id": "zcszJIjwxZCO"
      },
      "source": [
        "## Functions for map steps"
      ]
    },
    {
      "cell_type": "code",
      "metadata": {
        "id": "OeIAT-YdSEwv",
        "colab": {
          "base_uri": "https://localhost:8080/"
        },
        "outputId": "9375837d-89b0-4db3-ab46-8a59f70c2c81"
      },
      "source": [
        "# If we want to reshape data as Film -> Set of actor\n",
        "\n",
        "# df = df.map(lambda film_actor: (film_actor[0], [ film_actor[1] ]))\\\n",
        "#            .reduceByKey(lambda a, b: a + b)"
      ],
      "execution_count": null,
      "outputs": [
        {
          "output_type": "stream",
          "text": [
            "time: 1.14 ms (started: 2021-06-16 07:21:07 +00:00)\n"
          ],
          "name": "stdout"
        }
      ]
    },
    {
      "cell_type": "code",
      "metadata": {
        "id": "3HfohQIbTm1q",
        "colab": {
          "base_uri": "https://localhost:8080/"
        },
        "outputId": "c6ff1e53-57f5-4195-d7c1-90b9b85bd554"
      },
      "source": [
        "def partition_hash(tp, numPartition):\n",
        "  \"\"\"\n",
        "  Hash function used to create partitions\n",
        "  \"\"\"\n",
        "  return (int(tp[2:])) % numPartition"
      ],
      "execution_count": null,
      "outputs": [
        {
          "output_type": "stream",
          "text": [
            "time: 1.58 ms (started: 2021-06-16 07:21:07 +00:00)\n"
          ],
          "name": "stdout"
        }
      ]
    },
    {
      "cell_type": "code",
      "metadata": {
        "id": "Vsp1JByyeVXS",
        "colab": {
          "base_uri": "https://localhost:8080/"
        },
        "outputId": "3ebe1854-2e0e-45e6-ab8c-4aa0f4454518"
      },
      "source": [
        "def SON_a_priori(partition, support_threshold):\n",
        "  \"\"\"\n",
        "  A priori algorithm run for each partition.\n",
        "  \"\"\"\n",
        "  data = []\n",
        "  for v in partition:\n",
        "    data.append(v)\n",
        "  res = a_priori(pd.DataFrame(data, columns=['tconst', 'nconst']),support_threshold, False)\n",
        "  for i in res:\n",
        "    yield ((tuple(sorted(i[0]))), 1)    # Remove the count we don't want it "
      ],
      "execution_count": null,
      "outputs": [
        {
          "output_type": "stream",
          "text": [
            "time: 14.1 ms (started: 2021-06-16 07:21:07 +00:00)\n"
          ],
          "name": "stdout"
        }
      ]
    },
    {
      "cell_type": "code",
      "metadata": {
        "id": "HkoioLklehGE",
        "colab": {
          "base_uri": "https://localhost:8080/"
        },
        "outputId": "120b3467-da50-48ba-a068-8758a633bb41"
      },
      "source": [
        "def count_candidates(partition, candidates):\n",
        "  \"\"\"\n",
        "  Count the candidates frequency in the given partition. \n",
        "  \"\"\"\n",
        "  # Make couples for film, count the candidates ones\n",
        "  candidates_count = dict()\n",
        "  curr_film = \"\"\n",
        "  curr_basket = set()\n",
        "  for v in partition:\n",
        "    (film, actor) = (v[0], v[1])\n",
        "    if curr_film == \"\":\n",
        "      curr_film = film\n",
        "    if curr_film == film:\n",
        "      curr_basket.add(actor)\n",
        "    else:\n",
        "      # Increment count for each candidate in the basket \n",
        "      pairs =  make_subsets(curr_basket, 2)\n",
        "      for pair in pairs:\n",
        "        if pair in candidates:\n",
        "          if pair in candidates_count:\n",
        "            candidates_count[pair] += 1\n",
        "          else:\n",
        "            candidates_count[pair] = 1\n",
        "\n",
        "      curr_film = film\n",
        "      curr_basket = set([actor])\n",
        "  pairs = make_subsets(curr_basket, 2)\n",
        "  for pair in pairs:\n",
        "    if pair in candidates:\n",
        "      if pair in candidates_count:\n",
        "        candidates_count[pair] += 1\n",
        "      else:\n",
        "        candidates_count[pair] = 1\n",
        "\n",
        "  for i in candidates_count:\n",
        "    yield ((i), candidates_count[i])"
      ],
      "execution_count": null,
      "outputs": [
        {
          "output_type": "stream",
          "text": [
            "time: 52.8 ms (started: 2021-06-16 07:21:07 +00:00)\n"
          ],
          "name": "stdout"
        }
      ]
    },
    {
      "cell_type": "markdown",
      "metadata": {
        "id": "sauGFehhxeLF"
      },
      "source": [
        "## Algorithm"
      ]
    },
    {
      "cell_type": "code",
      "metadata": {
        "id": "kOpjFOOQsQ7Z",
        "colab": {
          "base_uri": "https://localhost:8080/"
        },
        "outputId": "cf76cb26-c853-4191-a240-f5738d89a3d2"
      },
      "source": [
        "def SON(df, support_threshold, num_partitions):\n",
        "  \"\"\"\n",
        "  SON algorithm implementation: distributed approach\n",
        "\n",
        "    Parameters\n",
        "    ----------\n",
        "    df: pandas.Dataframe\n",
        "      The dataframe containing the data\n",
        "    \n",
        "    support_threshold: int\n",
        "      Support threshold to apply to the whole dataset\n",
        "\n",
        "    num_partitions: int\n",
        "      number of partitions used in the algorithm\n",
        "\n",
        "    Returns\n",
        "    -------\n",
        "    list\n",
        "        a list of (tuple, int) containing the list of frequent tuple of actors with their relative absolute frequency.\n",
        "  \"\"\"\n",
        "  start = time.time()\n",
        "\n",
        "  rdd = sc.parallelize(zip(df['tconst'], df['nconst'])) \n",
        "  rdd = rdd.partitionBy(num_partitions, lambda x : partition_hash(x,num_partitions)).cache()\n",
        "\n",
        "  part_st = 1/num_partitions\n",
        "  first_step_candidates = rdd.mapPartitions(lambda part : SON_a_priori(part, support_threshold = int(support_threshold * part_st))).\\\n",
        "                              reduceByKey(lambda x,y : x).\\\n",
        "                              collect()\n",
        "  candidates = set(map(lambda x : x[0], first_step_candidates))\n",
        "  second_step = rdd.mapPartitions(lambda part : count_candidates(part, candidates)).\\\n",
        "                  reduceByKey(lambda x,y : x + y).\\\n",
        "                  filter(lambda x : x[1] >= support_threshold).\\\n",
        "                  collect()\n",
        "  return second_step"
      ],
      "execution_count": null,
      "outputs": [
        {
          "output_type": "stream",
          "text": [
            "time: 16.3 ms (started: 2021-06-16 07:21:07 +00:00)\n"
          ],
          "name": "stdout"
        }
      ]
    },
    {
      "cell_type": "markdown",
      "metadata": {
        "id": "MVJKon1RJGTZ"
      },
      "source": [
        "# **Toivonen**"
      ]
    },
    {
      "cell_type": "markdown",
      "metadata": {
        "id": "D664kHwVdvTL"
      },
      "source": [
        "## Algorithm"
      ]
    },
    {
      "cell_type": "code",
      "metadata": {
        "id": "YehK2PCKaLWN",
        "colab": {
          "base_uri": "https://localhost:8080/"
        },
        "outputId": "857f366a-09e1-4283-955a-fe75f953e8bf"
      },
      "source": [
        "def sample_dataset_toiv(df, p):\n",
        "  \"\"\"\n",
        "  Return a sample of the data set with the given probability.\n",
        "\n",
        "  Parameters\n",
        "  ----------\n",
        "\n",
        "  df: pandas.DataFrame\n",
        "    dataframe containing original dataset\n",
        "  \n",
        "  p: float\n",
        "    probability for each busket of being taken into account\n",
        "  \n",
        "  Returns\n",
        "  -------\n",
        "\n",
        "  pandas.DataFrame\n",
        "    the dataframe sampled\n",
        "  \"\"\"\n",
        "  neg_sample = set()\n",
        "  for i in df['tconst'].unique():\n",
        "    if np.random.uniform() > p:\n",
        "      neg_sample.add(i)\n",
        "  return df[~df['tconst'].isin(neg_sample)]"
      ],
      "execution_count": null,
      "outputs": [
        {
          "output_type": "stream",
          "text": [
            "time: 6.65 ms (started: 2021-06-16 07:21:07 +00:00)\n"
          ],
          "name": "stdout"
        }
      ]
    },
    {
      "cell_type": "code",
      "metadata": {
        "id": "M0zSZFlqxwRv",
        "colab": {
          "base_uri": "https://localhost:8080/"
        },
        "outputId": "7d322c24-572f-412b-813a-2cbfc21b15a7"
      },
      "source": [
        "def last_scan_toivonen(df, sample_res, hash_table, inverse, support_threshold, hash_n):\n",
        "  \"\"\"\n",
        "  Last scan of toivonen algorithm, builds the negative border \n",
        "  and check the sample result.\n",
        "\n",
        "  Parameters\n",
        "  ----------\n",
        "\n",
        "  df: pandas.DataFrame\n",
        "      dataframe containing original dataset\n",
        "\n",
        "  sample_res: set\n",
        "      result of the algorithm on the sample containing frequent pairs and singletons \n",
        "\n",
        "  hash_table: dict\n",
        "      hash table used to map actor ID (string) to int ID \n",
        "\n",
        "  inverse: dict\n",
        "      hash table used to map int ID to actor ID (string) \n",
        "\n",
        "  support_threshold: int\n",
        "      support threshold to apply to the whole dataset\n",
        "\n",
        "  hash_n: int\n",
        "      number of singleton hashed\n",
        "\n",
        "  Returns\n",
        "  -------\n",
        "\n",
        "  set:\n",
        "    Set containing the frequent pairs or empty if the solution is not found \n",
        "  \"\"\"  \n",
        "  curr_film = df.iloc[0][0]\n",
        "  curr_basket = set()\n",
        "  count_sample = dict()\n",
        "  count_neg = dict()\n",
        "\n",
        "  for film, actorID in zip(df['tconst'], df['nconst']): \n",
        "    if actorID in hash_table:\n",
        "      actor = hash_table[actorID]\n",
        "    else:\n",
        "      actor = hash_n\n",
        "      hash_table[actorID] = hash_n\n",
        "      hash_n += 1  \n",
        "    if curr_film == film:\n",
        "      curr_basket.add(actor)\n",
        "      # Count singletons\n",
        "      if actor in sample_res: \n",
        "        if actor in count_sample: \n",
        "          count_sample[actor]+= 1\n",
        "        else:                 \n",
        "          count_sample[actor] = 1\n",
        "      else:                               # Negative border singletons \n",
        "        if actor in count_neg: \n",
        "          count_neg[actor]+= 1\n",
        "        else:                 \n",
        "          count_neg[actor] = 1\n",
        "    else:\n",
        "      pairs = make_subsets(curr_basket, 2)\n",
        "      for pair in pairs:\n",
        "        if pair in sample_res: \n",
        "          if pair in count_sample: \n",
        "            count_sample[pair]+= 1\n",
        "          else:                 \n",
        "            count_sample[pair] = 1\n",
        "        else:\n",
        "          (a1,a2) = pair\n",
        "          if a1 in sample_res and a2 in sample_res:       # Negative border pairs \n",
        "            if pair in count_neg: \n",
        "              count_neg[pair]+= 1\n",
        "            else:                 \n",
        "              count_neg[pair] = 1\n",
        "      curr_film = film \n",
        "      curr_basket = set([actor])\n",
        "      # still singleton count\n",
        "      if actor in sample_res: \n",
        "        if actor in count_sample: \n",
        "          count_sample[actor]+= 1\n",
        "        else:                 \n",
        "          count_sample[actor] = 1\n",
        "      else:                               # Negative border singletons \n",
        "        if actor in count_neg: \n",
        "          count_neg[actor]+= 1\n",
        "        else:                 \n",
        "          count_neg[actor] = 1\n",
        "      \n",
        "  # Last film\n",
        "  pairs = make_subsets(curr_basket, 2)\n",
        "  for pair in pairs:\n",
        "    if pair in sample_res: \n",
        "      if pair in count_sample: \n",
        "        count_sample[pair]+= 1\n",
        "      else:                 \n",
        "        count_sample[pair] = 1\n",
        "    else:\n",
        "      (a1,a2) = pair\n",
        "      if a1 in sample_res and a2 in sample_res:       # Negative border pairs \n",
        "        if pair in count_neg: \n",
        "          count_neg[pair]+= 1\n",
        "        else:                 \n",
        "          count_neg[pair] = 1\n",
        "\n",
        "  result = True\n",
        "\n",
        "  for i in count_neg:\n",
        "    if count_neg[i] >= support_threshold:\n",
        "      #print(\"ERRORE - \" + str(i) + \" : \" + str(count_neg[i]))\n",
        "      return None\n",
        "\n",
        "  # We got a result, remove false positives and singletons\n",
        "  for i in count_sample:\n",
        "    if count_sample[i] < support_threshold:\n",
        "      sample_res.remove(i)\n",
        "  res = set()\n",
        "  for i in sample_res:\n",
        "    if not isinstance(i, int):\n",
        "      res.add(tuple([inverse[x] for x in i]))\n",
        "  return res"
      ],
      "execution_count": null,
      "outputs": [
        {
          "output_type": "stream",
          "text": [
            "time: 121 ms (started: 2021-06-16 07:21:07 +00:00)\n"
          ],
          "name": "stdout"
        }
      ]
    },
    {
      "cell_type": "code",
      "metadata": {
        "id": "7gv8akJrMGqO",
        "colab": {
          "base_uri": "https://localhost:8080/"
        },
        "outputId": "85c07977-c2f6-4e2d-a6e6-359f06180b6f"
      },
      "source": [
        "def toivonen(df, support_threshold, p, adjust_st = 0.9):\n",
        "  \"\"\"\n",
        "  Implementation of the Toivonen algorithm to find frequent pairs.\n",
        "\n",
        "  Parameters\n",
        "  ----------\n",
        "\n",
        "  df: pandas.DataFrame\n",
        "      dataframe containing original dataset\n",
        "\n",
        "  support_threshold: int\n",
        "      support threshold to apply to the whole dataset\n",
        "  p: float\n",
        "      probability for each busket of being taken into account\n",
        "  \n",
        "  adjust_st: float, optional\n",
        "      factor to use in order to adjust support threshold, must be \n",
        "      less than 1, default is 0.9\n",
        "  \n",
        "  Raises\n",
        "  ------\n",
        "  ValueError\n",
        "    If adjust_st paramenter is more than 1.0\n",
        "\n",
        "\n",
        "  Returns\n",
        "  -------\n",
        "\n",
        "  set\n",
        "    set containing frequent pairs\n",
        "  \"\"\"    \n",
        "  start = time.time()\n",
        "  if adjust_st > 1.0:\n",
        "    raise ValueError(\"Invalid adjustment factor for support threshold\")\n",
        "  full_df = df\n",
        "  df = sample_dataset_toiv(df, p)\n",
        "  original_st = support_threshold\n",
        "  support_threshold = adjust_st * p * support_threshold     # Adjust support threshold in order to have less false negatives\n",
        "\n",
        "  print(\"Time for sampling: \" + str(time.time() - start))\n",
        "\n",
        "  (freq, first_actor_ht, inverse) = first_pass(df)\n",
        "\n",
        "  freq = {k:v for (k,v) in freq.items() if v >= support_threshold}    # candidates_singleton\n",
        "\n",
        "  abs_freq_pair = second_pass(df,freq,first_actor_ht, support_threshold)\n",
        "  sample_res = set();\n",
        "\n",
        "  for i in abs_freq_pair:\n",
        "    if abs_freq_pair[i] >= support_threshold:\n",
        "      sample_res.add((i[0], i[1]))\n",
        "  for i in freq:\n",
        "    if freq[i] >= support_threshold:\n",
        "      sample_res.add(i)\n",
        "\n",
        "  res = last_scan_toivonen(full_df, sample_res, first_actor_ht, inverse, original_st, max(freq) + 1)\n",
        "\n",
        "  return res"
      ],
      "execution_count": null,
      "outputs": [
        {
          "output_type": "stream",
          "text": [
            "time: 34.1 ms (started: 2021-06-16 07:21:07 +00:00)\n"
          ],
          "name": "stdout"
        }
      ]
    },
    {
      "cell_type": "markdown",
      "metadata": {
        "id": "aiPM65eSDkkz"
      },
      "source": [
        "# **Results**"
      ]
    },
    {
      "cell_type": "markdown",
      "metadata": {
        "id": "TYV9NbdzGC7p"
      },
      "source": [
        "## A Priori"
      ]
    },
    {
      "cell_type": "markdown",
      "metadata": {
        "id": "q8hop9qFfYoe"
      },
      "source": [
        "### Dataframe only movies and actors"
      ]
    },
    {
      "cell_type": "code",
      "metadata": {
        "colab": {
          "base_uri": "https://localhost:8080/"
        },
        "id": "-SHRWEnNZVsI",
        "outputId": "3d5ef8ce-f730-427c-ebc3-aa8a775d0549"
      },
      "source": [
        "print(len(a_priori(df_films_actors, 20, True)))"
      ],
      "execution_count": null,
      "outputs": [
        {
          "output_type": "stream",
          "text": [
            "Num Candidates pairs:382224\n",
            "Dim: 20971624 bytes \n",
            "214\n",
            "time: 8.3 s (started: 2021-06-14 15:47:11 +00:00)\n"
          ],
          "name": "stdout"
        }
      ]
    },
    {
      "cell_type": "code",
      "metadata": {
        "colab": {
          "base_uri": "https://localhost:8080/"
        },
        "id": "yvzHybepZVsJ",
        "outputId": "047bb909-2cfe-4e3f-bc55-d045a18958d8"
      },
      "source": [
        "print(len(a_priori(df_films_actors, 20, False)))"
      ],
      "execution_count": null,
      "outputs": [
        {
          "output_type": "stream",
          "text": [
            "Num Candidates pairs:382224\n",
            "Dim: 20971624 bytes \n",
            "1029\n",
            "time: 4.53 s (started: 2021-06-14 15:47:19 +00:00)\n"
          ],
          "name": "stdout"
        }
      ]
    },
    {
      "cell_type": "code",
      "metadata": {
        "colab": {
          "base_uri": "https://localhost:8080/"
        },
        "id": "JDRx5lkdZVsK",
        "outputId": "9d8996c4-e3bd-46e8-de1f-97330f678c41"
      },
      "source": [
        "print(len(a_priori(df_films_actors, 40, True)))"
      ],
      "execution_count": null,
      "outputs": [
        {
          "output_type": "stream",
          "text": [
            "Num Candidates pairs:136512\n",
            "Dim: 5242984 bytes \n",
            "46\n",
            "time: 6.45 s (started: 2021-06-14 15:47:24 +00:00)\n"
          ],
          "name": "stdout"
        }
      ]
    },
    {
      "cell_type": "code",
      "metadata": {
        "colab": {
          "base_uri": "https://localhost:8080/"
        },
        "id": "WuME8LYZZVsK",
        "outputId": "e5e4ad46-d10c-443e-ac0a-fb5fa36051db"
      },
      "source": [
        "print(len(a_priori(df_films_actors, 40, False)))"
      ],
      "execution_count": null,
      "outputs": [
        {
          "output_type": "stream",
          "text": [
            "Num Candidates pairs:136512\n",
            "Dim: 5242984 bytes \n",
            "175\n",
            "time: 3.93 s (started: 2021-06-14 15:47:30 +00:00)\n"
          ],
          "name": "stdout"
        }
      ]
    },
    {
      "cell_type": "code",
      "metadata": {
        "colab": {
          "base_uri": "https://localhost:8080/"
        },
        "id": "vYhJCigjZVsK",
        "outputId": "16269108-a016-4055-f303-633a10ca4cd4"
      },
      "source": [
        "print(len(a_priori(df_films_actors, 60, True)))"
      ],
      "execution_count": null,
      "outputs": [
        {
          "output_type": "stream",
          "text": [
            "Num Candidates pairs:52877\n",
            "Dim: 2621552 bytes \n",
            "14\n",
            "time: 5.78 s (started: 2021-06-14 15:47:34 +00:00)\n"
          ],
          "name": "stdout"
        }
      ]
    },
    {
      "cell_type": "code",
      "metadata": {
        "colab": {
          "base_uri": "https://localhost:8080/"
        },
        "id": "RSC0fltqZVsL",
        "outputId": "ef2f9f1b-3f79-44e6-c11d-43e94acc456a"
      },
      "source": [
        "print(len(a_priori(df_films_actors, 60, False)))"
      ],
      "execution_count": null,
      "outputs": [
        {
          "output_type": "stream",
          "text": [
            "Num Candidates pairs:52877\n",
            "Dim: 2621552 bytes \n",
            "49\n",
            "time: 3.73 s (started: 2021-06-14 15:47:40 +00:00)\n"
          ],
          "name": "stdout"
        }
      ]
    },
    {
      "cell_type": "markdown",
      "metadata": {
        "id": "HxvqpFsAfVdS"
      },
      "source": [
        "### Dataframe only movies"
      ]
    },
    {
      "cell_type": "code",
      "metadata": {
        "colab": {
          "base_uri": "https://localhost:8080/"
        },
        "id": "E2-OMw1hZE9w",
        "outputId": "b1227a1f-5cfa-4149-ea56-530274f13158"
      },
      "source": [
        "print(len(a_priori(df_only_films, 28, True)))"
      ],
      "execution_count": null,
      "outputs": [
        {
          "output_type": "stream",
          "text": [
            "Num Candidates pairs:918450\n",
            "Dim: 41943152 bytes \n",
            "339\n",
            "time: 23.7 s (started: 2021-06-14 15:47:44 +00:00)\n"
          ],
          "name": "stdout"
        }
      ]
    },
    {
      "cell_type": "code",
      "metadata": {
        "colab": {
          "base_uri": "https://localhost:8080/"
        },
        "id": "oV3YSBNlZE9x",
        "outputId": "8b7aafe8-e7b0-40cd-d514-863b62ac67a8"
      },
      "source": [
        "print(len(a_priori(df_only_films, 28, False)))"
      ],
      "execution_count": null,
      "outputs": [
        {
          "output_type": "stream",
          "text": [
            "Num Candidates pairs:918450\n",
            "Dim: 41943152 bytes \n",
            "1700\n",
            "time: 10.9 s (started: 2021-06-14 15:48:07 +00:00)\n"
          ],
          "name": "stdout"
        }
      ]
    },
    {
      "cell_type": "code",
      "metadata": {
        "colab": {
          "base_uri": "https://localhost:8080/"
        },
        "id": "EeFls7AvZE9x",
        "outputId": "ca881bc2-df11-4d59-bae3-e16b670e14dc"
      },
      "source": [
        "print(len(a_priori(df_only_films, 53, True)))"
      ],
      "execution_count": null,
      "outputs": [
        {
          "output_type": "stream",
          "text": [
            "Num Candidates pairs:266339\n",
            "Dim: 10485872 bytes \n",
            "61\n",
            "time: 15.3 s (started: 2021-06-14 15:48:18 +00:00)\n"
          ],
          "name": "stdout"
        }
      ]
    },
    {
      "cell_type": "code",
      "metadata": {
        "colab": {
          "base_uri": "https://localhost:8080/"
        },
        "id": "ySXraG-3ZE9y",
        "outputId": "2abcd677-4553-438b-f90c-c4c2ebaba2a9"
      },
      "source": [
        "print(len(a_priori(df_only_films, 53, False)))"
      ],
      "execution_count": null,
      "outputs": [
        {
          "output_type": "stream",
          "text": [
            "Num Candidates pairs:266339\n",
            "Dim: 10485872 bytes \n",
            "287\n",
            "time: 8.85 s (started: 2021-06-14 15:48:34 +00:00)\n"
          ],
          "name": "stdout"
        }
      ]
    },
    {
      "cell_type": "code",
      "metadata": {
        "colab": {
          "base_uri": "https://localhost:8080/"
        },
        "id": "LbSIPH6fZE9y",
        "outputId": "afdf3de8-a9cb-4be8-d28b-24815403add4"
      },
      "source": [
        "print(len(a_priori(df_only_films, 80, True)))"
      ],
      "execution_count": null,
      "outputs": [
        {
          "output_type": "stream",
          "text": [
            "Num Candidates pairs:73339\n",
            "Dim: 2621552 bytes \n",
            "12\n",
            "time: 12.6 s (started: 2021-06-14 15:48:42 +00:00)\n"
          ],
          "name": "stdout"
        }
      ]
    },
    {
      "cell_type": "code",
      "metadata": {
        "colab": {
          "base_uri": "https://localhost:8080/"
        },
        "id": "JSVbntT-ZE9y",
        "outputId": "11335def-637b-4fe7-b9e0-6e0db0314474"
      },
      "source": [
        "print(len(a_priori(df_only_films, 80, False)))"
      ],
      "execution_count": null,
      "outputs": [
        {
          "output_type": "stream",
          "text": [
            "Num Candidates pairs:73339\n",
            "Dim: 2621552 bytes \n",
            "83\n",
            "time: 8.08 s (started: 2021-06-14 15:48:55 +00:00)\n"
          ],
          "name": "stdout"
        }
      ]
    },
    {
      "cell_type": "markdown",
      "metadata": {
        "id": "lkP9LImTfQGw"
      },
      "source": [
        "### Dataframe Full"
      ]
    },
    {
      "cell_type": "code",
      "metadata": {
        "colab": {
          "base_uri": "https://localhost:8080/"
        },
        "id": "qaDWz65Lq-nV",
        "outputId": "06e25188-44eb-4dee-cc6d-cde93021eb0f"
      },
      "source": [
        "print(len(a_priori(df_visual, 290, True)))"
      ],
      "execution_count": null,
      "outputs": [
        {
          "output_type": "stream",
          "text": [
            "Num Candidates pairs:784811\n",
            "Dim: 41943152 bytes \n",
            "46606\n",
            "time: 5min 36s (started: 2021-06-14 15:49:03 +00:00)\n"
          ],
          "name": "stdout"
        }
      ]
    },
    {
      "cell_type": "code",
      "metadata": {
        "colab": {
          "base_uri": "https://localhost:8080/"
        },
        "id": "vJxd35NhadJq",
        "outputId": "500dc6ef-db34-4c70-823c-a13e02c1f113"
      },
      "source": [
        "print(len(a_priori(df_visual, 290, False)))"
      ],
      "execution_count": null,
      "outputs": [
        {
          "output_type": "stream",
          "text": [
            "Num Candidates pairs:784811\n",
            "Dim: 41943152 bytes \n",
            "26693\n",
            "time: 1min 38s (started: 2021-06-14 15:54:40 +00:00)\n"
          ],
          "name": "stdout"
        }
      ]
    },
    {
      "cell_type": "code",
      "metadata": {
        "colab": {
          "base_uri": "https://localhost:8080/"
        },
        "id": "FnVIGaHg2i1b",
        "outputId": "56fc8e4f-481e-45f7-9ffe-f07da6125a47"
      },
      "source": [
        "print(len(a_priori(df_visual, 580, True)))"
      ],
      "execution_count": null,
      "outputs": [
        {
          "output_type": "stream",
          "text": [
            "Num Candidates pairs:184859\n",
            "Dim: 10485872 bytes \n",
            "13661\n",
            "time: 3min 41s (started: 2021-06-14 15:56:19 +00:00)\n"
          ],
          "name": "stdout"
        }
      ]
    },
    {
      "cell_type": "code",
      "metadata": {
        "colab": {
          "base_uri": "https://localhost:8080/"
        },
        "id": "TepsZaqccRo-",
        "outputId": "d4a30c5c-f943-4a26-dc55-6378daef14d8"
      },
      "source": [
        "print(len(a_priori(df_visual, 580, False)))"
      ],
      "execution_count": null,
      "outputs": [
        {
          "output_type": "stream",
          "text": [
            "Num Candidates pairs:184859\n",
            "Dim: 10485872 bytes \n",
            "7887\n",
            "time: 1min 28s (started: 2021-06-14 16:00:00 +00:00)\n"
          ],
          "name": "stdout"
        }
      ]
    },
    {
      "cell_type": "code",
      "metadata": {
        "colab": {
          "base_uri": "https://localhost:8080/"
        },
        "id": "hGNjNzWiepaz",
        "outputId": "2f82f2bc-49a9-4a83-a93e-cc6c890132aa"
      },
      "source": [
        "print(len(a_priori(df_visual, 870, True)))"
      ],
      "execution_count": null,
      "outputs": [
        {
          "output_type": "stream",
          "text": [
            "Num Candidates pairs:70969\n",
            "Dim: 2621552 bytes \n",
            "6476\n",
            "time: 2min 53s (started: 2021-06-14 16:01:29 +00:00)\n"
          ],
          "name": "stdout"
        }
      ]
    },
    {
      "cell_type": "code",
      "metadata": {
        "colab": {
          "base_uri": "https://localhost:8080/"
        },
        "id": "gCuo4p5Detct",
        "outputId": "ef5f04fd-3c1c-4672-f3a4-74cbdde8ef6a"
      },
      "source": [
        "print(len(a_priori(df_visual, 870, False)))"
      ],
      "execution_count": null,
      "outputs": [
        {
          "output_type": "stream",
          "text": [
            "Num Candidates pairs:70969\n",
            "Dim: 2621552 bytes \n",
            "3648\n",
            "time: 1min 19s (started: 2021-06-14 16:04:22 +00:00)\n"
          ],
          "name": "stdout"
        }
      ]
    },
    {
      "cell_type": "markdown",
      "metadata": {
        "id": "OqEX4sHBrJXc"
      },
      "source": [
        "### Sampled version"
      ]
    },
    {
      "cell_type": "code",
      "metadata": {
        "colab": {
          "base_uri": "https://localhost:8080/"
        },
        "id": "gjc7YfuLrNOF",
        "outputId": "d8f5d8e9-8ee3-4767-a28b-4199f06e4790"
      },
      "source": [
        "print(len(sampled_a_priori('./title.principals.tsv/title.principals.tsv', 290, 0.8)))"
      ],
      "execution_count": null,
      "outputs": [
        {
          "output_type": "stream",
          "text": [
            "Num Candidates pairs:857840\n",
            "Dim: 41943152 bytes \n",
            "5990334\n",
            "26188\n",
            "time: 5min 24s (started: 2021-06-16 07:21:21 +00:00)\n"
          ],
          "name": "stdout"
        }
      ]
    },
    {
      "cell_type": "code",
      "metadata": {
        "colab": {
          "base_uri": "https://localhost:8080/"
        },
        "id": "AtMWY6eErs3E",
        "outputId": "ac84323f-8da2-443a-a7b4-16c4549eb69b"
      },
      "source": [
        "import gc\n",
        "\n",
        "gc.collect()"
      ],
      "execution_count": null,
      "outputs": [
        {
          "output_type": "execute_result",
          "data": {
            "text/plain": [
              "665"
            ]
          },
          "metadata": {
            "tags": []
          },
          "execution_count": 35
        },
        {
          "output_type": "stream",
          "text": [
            "time: 98.5 ms (started: 2021-06-16 07:26:48 +00:00)\n"
          ],
          "name": "stdout"
        }
      ]
    },
    {
      "cell_type": "code",
      "metadata": {
        "colab": {
          "base_uri": "https://localhost:8080/"
        },
        "id": "8xlUsLZTsjkH",
        "outputId": "0df09446-8e6b-4fc1-8487-d2a1772d8d30"
      },
      "source": [
        "print(len(sampled_a_priori('./title.principals.tsv/title.principals.tsv', 290, 0.8, triplets = True)))"
      ],
      "execution_count": null,
      "outputs": [
        {
          "output_type": "stream",
          "text": [
            "Num Candidates pairs:859536\n",
            "Dim: 41943152 bytes \n",
            "5990334\n",
            "46004\n",
            "time: 10min 43s (started: 2021-06-16 07:26:48 +00:00)\n"
          ],
          "name": "stdout"
        }
      ]
    },
    {
      "cell_type": "markdown",
      "metadata": {
        "id": "ukgrBelElVsN"
      },
      "source": [
        "## PCY"
      ]
    },
    {
      "cell_type": "markdown",
      "metadata": {
        "id": "ll5PWXYywnq5"
      },
      "source": [
        "### Dataframe movies and actors"
      ]
    },
    {
      "cell_type": "code",
      "metadata": {
        "colab": {
          "base_uri": "https://localhost:8080/"
        },
        "id": "4OYEBdyacZLC",
        "outputId": "a19caf43-12d4-4875-d49e-1e61715dded4"
      },
      "source": [
        "n = len(df_films_actors['nconst'].unique())\n",
        "tot_couples = math.factorial(n) / (math.factorial(2) * math.factorial(n - 2))\n",
        "print(\"Number of actors: \" + str(n) + \" , number of possible couples: \" + str(tot_couples))"
      ],
      "execution_count": null,
      "outputs": [
        {
          "output_type": "stream",
          "text": [
            "Number of actors: 582655 , number of possible couples: 169743133185.0\n",
            "time: 6.15 s (started: 2021-06-14 16:05:42 +00:00)\n"
          ],
          "name": "stdout"
        }
      ]
    },
    {
      "cell_type": "code",
      "metadata": {
        "colab": {
          "base_uri": "https://localhost:8080/"
        },
        "id": "kqINVkmGlW3J",
        "outputId": "7a0bf176-a47a-492a-bfac-48987a51adad"
      },
      "source": [
        "print(\"A Priori:\")\n",
        "print(\"Num freq pairs: \" + str(len(a_priori(df_films_actors, 20))) + \" \")"
      ],
      "execution_count": null,
      "outputs": [
        {
          "output_type": "stream",
          "text": [
            "A Priori:\n",
            "Num Candidates pairs:382224\n",
            "Dim: 20971624 bytes \n",
            "Num freq pairs: 1029 \n",
            "time: 4.76 s (started: 2021-06-14 16:05:48 +00:00)\n"
          ],
          "name": "stdout"
        }
      ]
    },
    {
      "cell_type": "code",
      "metadata": {
        "colab": {
          "base_uri": "https://localhost:8080/"
        },
        "id": "fceaiaeknCHK",
        "outputId": "2b89543f-4064-444e-85da-e4099123d090"
      },
      "source": [
        "print(\"PCY:\")\n",
        "print(\"Num freq pairs: \" + str(len(PCY(df_films_actors, 20, my_hash_fun, 100000))) + \" \")"
      ],
      "execution_count": null,
      "outputs": [
        {
          "output_type": "stream",
          "text": [
            "PCY:\n",
            "Num Candidates pairs:376140\n",
            "Dim: 20971624\n",
            "Num freq pairs: 1029 \n",
            "time: 10.1 s (started: 2021-06-14 16:05:52 +00:00)\n"
          ],
          "name": "stdout"
        }
      ]
    },
    {
      "cell_type": "code",
      "metadata": {
        "colab": {
          "base_uri": "https://localhost:8080/"
        },
        "id": "hPgrsYGclnv8",
        "outputId": "8c4352d1-e8be-4174-8863-2f0e17bbfed6"
      },
      "source": [
        "print(\"PCY:\")\n",
        "print(\"Num freq pairs: \" + str(len(PCY(df_films_actors, 20, my_hash_fun, 500000))) + \" \")"
      ],
      "execution_count": null,
      "outputs": [
        {
          "output_type": "stream",
          "text": [
            "PCY:\n",
            "Num Candidates pairs:37985\n",
            "Dim: 1310824\n",
            "Num freq pairs: 1029 \n",
            "time: 9.88 s (started: 2021-06-14 16:06:03 +00:00)\n"
          ],
          "name": "stdout"
        }
      ]
    },
    {
      "cell_type": "code",
      "metadata": {
        "colab": {
          "base_uri": "https://localhost:8080/"
        },
        "id": "WCL9ueTFnHhT",
        "outputId": "6caee87f-1a26-464a-b602-aaa3f51c211f"
      },
      "source": [
        "print(\"PCY:\")\n",
        "\n",
        "print(\"Num freq pairs: \" + str(len(PCY(df_films_actors, 20, my_hash_fun, 1000000))) + \" \")"
      ],
      "execution_count": null,
      "outputs": [
        {
          "output_type": "stream",
          "text": [
            "PCY:\n",
            "Num Candidates pairs:21301\n",
            "Dim: 589936\n",
            "Num freq pairs: 1029 \n",
            "time: 9.79 s (started: 2021-06-14 16:06:12 +00:00)\n"
          ],
          "name": "stdout"
        }
      ]
    },
    {
      "cell_type": "code",
      "metadata": {
        "colab": {
          "base_uri": "https://localhost:8080/"
        },
        "id": "YSMSLa1LHHbV",
        "outputId": "cca1127c-62e0-4a13-e22b-16b5558df816"
      },
      "source": [
        "cand_dim = [20.971624, 1.310824, 0.589936]\n",
        "basket_dim = [100000, 500000, 1000000]\n",
        "plt.plot(basket_dim, cand_dim, '-go')\n",
        "plt.ylabel('Candidates dim (MB)')\n",
        "plt.xlabel('Basket dim (Num Item)')\n",
        "plt.title('DF movies actors, st = 20')\n",
        "plt.show()"
      ],
      "execution_count": null,
      "outputs": [
        {
          "output_type": "display_data",
          "data": {
            "image/png": "[encoded data removed]",
            "text/plain": [
              "<Figure size 432x288 with 1 Axes>"
            ]
          },
          "metadata": {
            "tags": []
          }
        },
        {
          "output_type": "stream",
          "text": [
            "time: 204 ms (started: 2021-06-14 16:06:22 +00:00)\n"
          ],
          "name": "stdout"
        }
      ]
    },
    {
      "cell_type": "markdown",
      "metadata": {
        "id": "B-B2OWhTtwfb"
      },
      "source": [
        "### Dataframe movies"
      ]
    },
    {
      "cell_type": "code",
      "metadata": {
        "colab": {
          "base_uri": "https://localhost:8080/"
        },
        "id": "l5qHu9srvBkN",
        "outputId": "532c197d-24f6-414f-d77e-d5e2b705cbd8"
      },
      "source": [
        "n = len(df_only_films['nconst'].unique())\n",
        "tot_couples = math.factorial(n) / (math.factorial(2) * math.factorial(n - 2))\n",
        "print(\"Number of actors: \" + str(n) + \" , number of possible couples: \" + str(tot_couples))"
      ],
      "execution_count": null,
      "outputs": [
        {
          "output_type": "stream",
          "text": [
            "Number of actors: 1269114 , number of possible couples: 805324537941.0\n",
            "time: 22.6 s (started: 2021-06-14 16:06:23 +00:00)\n"
          ],
          "name": "stdout"
        }
      ]
    },
    {
      "cell_type": "code",
      "metadata": {
        "colab": {
          "base_uri": "https://localhost:8080/"
        },
        "id": "xu-1NDgft2iL",
        "outputId": "6612162a-0d31-48c0-d94d-273a1112a8c3"
      },
      "source": [
        "print(\"A Priori:\")\n",
        "print(\"Num freq pairs: \" + str(len(a_priori(df_only_films, 28))) + \" \")"
      ],
      "execution_count": null,
      "outputs": [
        {
          "output_type": "stream",
          "text": [
            "A Priori:\n",
            "Num Candidates pairs:918450\n",
            "Dim: 41943152 bytes \n",
            "Num freq pairs: 1700 \n",
            "time: 11.5 s (started: 2021-06-14 16:06:45 +00:00)\n"
          ],
          "name": "stdout"
        }
      ]
    },
    {
      "cell_type": "code",
      "metadata": {
        "colab": {
          "base_uri": "https://localhost:8080/"
        },
        "id": "4QDIMKQrt2iN",
        "outputId": "d67a910a-5ff9-4662-cafd-081f18c32db0"
      },
      "source": [
        "print(\"PCY:\")\n",
        "print(\"Num freq pairs: \" + str(len(PCY(df_only_films, 28, my_hash_fun, 217815))) + \" \")"
      ],
      "execution_count": null,
      "outputs": [
        {
          "output_type": "stream",
          "text": [
            "PCY:\n",
            "Num Candidates pairs:918431\n",
            "Dim: 41943152\n",
            "Num freq pairs: 1700 \n",
            "time: 31.2 s (started: 2021-06-14 16:06:57 +00:00)\n"
          ],
          "name": "stdout"
        }
      ]
    },
    {
      "cell_type": "code",
      "metadata": {
        "colab": {
          "base_uri": "https://localhost:8080/"
        },
        "id": "Q1LZrPhlt2iN",
        "outputId": "98757ac5-9e08-4b59-b747-4da53d2705d0"
      },
      "source": [
        "print(\"PCY:\")\n",
        "print(\"Num freq pairs: \" + str(len(PCY(df_only_films, 28, my_hash_fun, 1089078))) + \" \")"
      ],
      "execution_count": null,
      "outputs": [
        {
          "output_type": "stream",
          "text": [
            "PCY:\n",
            "Num Candidates pairs:344321\n",
            "Dim: 10485872\n",
            "Num freq pairs: 1700 \n",
            "time: 31.1 s (started: 2021-06-14 16:07:28 +00:00)\n"
          ],
          "name": "stdout"
        }
      ]
    },
    {
      "cell_type": "code",
      "metadata": {
        "colab": {
          "base_uri": "https://localhost:8080/"
        },
        "id": "e-Po_1NSt2iQ",
        "outputId": "9b7cd319-c54f-4416-a38a-9fd836ca1f90"
      },
      "source": [
        "print(\"PCY:\")\n",
        "\n",
        "print(\"Num freq pairs: \" + str(len(PCY(df_only_films, 28, my_hash_fun, 3008156))) + \" \")"
      ],
      "execution_count": null,
      "outputs": [
        {
          "output_type": "stream",
          "text": [
            "PCY:\n",
            "Num Candidates pairs:169288\n",
            "Dim: 5242984\n",
            "Num freq pairs: 1700 \n",
            "time: 30.8 s (started: 2021-06-14 16:07:59 +00:00)\n"
          ],
          "name": "stdout"
        }
      ]
    },
    {
      "cell_type": "code",
      "metadata": {
        "colab": {
          "base_uri": "https://localhost:8080/"
        },
        "id": "5ryL7qd-Ipq2",
        "outputId": "90826e85-7623-48e2-c025-595ffcc1ef93"
      },
      "source": [
        "cand_dim = [41.943152, 10.485872, 5.242984]\n",
        "basket_dim = [217815, 1089078, 3008156]\n",
        "plt.plot(basket_dim, cand_dim, '-bo')\n",
        "plt.ylabel('Candidates dim (MB)')\n",
        "plt.xlabel('Basket dim (Num Item)')\n",
        "plt.title('DF movies actors, st = 28')\n",
        "plt.show()"
      ],
      "execution_count": null,
      "outputs": [
        {
          "output_type": "display_data",
          "data": {
            "image/png": "[encoded data removed]",
            "text/plain": [
              "<Figure size 432x288 with 1 Axes>"
            ]
          },
          "metadata": {
            "tags": []
          }
        },
        {
          "output_type": "stream",
          "text": [
            "time: 151 ms (started: 2021-06-14 16:08:30 +00:00)\n"
          ],
          "name": "stdout"
        }
      ]
    },
    {
      "cell_type": "markdown",
      "metadata": {
        "id": "bEx4BJHhuDh9"
      },
      "source": [
        "### Dataframe Full"
      ]
    },
    {
      "cell_type": "code",
      "metadata": {
        "colab": {
          "base_uri": "https://localhost:8080/"
        },
        "id": "msu5kOkavHfU",
        "outputId": "918169c1-b356-47ed-8caf-0752fa36664c"
      },
      "source": [
        "n = len(df_visual['nconst'].unique())\n",
        "tot_couples = math.factorial(n) / (math.factorial(2) * math.factorial(n - 2))\n",
        "print(\"Number of actors: \" + str(n) + \" , number of possible couples: \" + str(tot_couples))"
      ],
      "execution_count": null,
      "outputs": [
        {
          "output_type": "stream",
          "text": [
            "Number of actors: 3871313 , number of possible couples: 7493530236328.0\n",
            "time: 2min 29s (started: 2021-06-14 16:08:30 +00:00)\n"
          ],
          "name": "stdout"
        }
      ]
    },
    {
      "cell_type": "code",
      "metadata": {
        "colab": {
          "base_uri": "https://localhost:8080/"
        },
        "id": "QQ56cfuAuFwy",
        "outputId": "eacb4bd5-ae5a-4937-c627-e7f43fbe2f26"
      },
      "source": [
        "print(\"A Priori:\")\n",
        "print(\"Num freq pairs: \" + str(len(a_priori(df_visual, 290))) + \" \")"
      ],
      "execution_count": null,
      "outputs": [
        {
          "output_type": "stream",
          "text": [
            "A Priori:\n",
            "Num Candidates pairs:784811\n",
            "Dim: 41943152 bytes \n",
            "Num freq pairs: 26693 \n",
            "time: 1min 39s (started: 2021-06-14 16:11:00 +00:00)\n"
          ],
          "name": "stdout"
        }
      ]
    },
    {
      "cell_type": "code",
      "metadata": {
        "colab": {
          "base_uri": "https://localhost:8080/"
        },
        "id": "yx9bhHxOuFwy",
        "outputId": "711333f3-d639-4be3-a17e-71fad116c6ea"
      },
      "source": [
        "print(\"PCY:\")\n",
        "print(\"Num freq pairs: \" + str(len(PCY(df_visual, 290, my_hash_fun, 664426))) + \" \")"
      ],
      "execution_count": null,
      "outputs": [
        {
          "output_type": "stream",
          "text": [
            "PCY:\n",
            "Num Candidates pairs:174441\n",
            "Dim: 5242984\n",
            "Num freq pairs: 26693 \n",
            "time: 4min 36s (started: 2021-06-14 16:12:39 +00:00)\n"
          ],
          "name": "stdout"
        }
      ]
    },
    {
      "cell_type": "code",
      "metadata": {
        "colab": {
          "base_uri": "https://localhost:8080/"
        },
        "id": "zxBC7usbuFwz",
        "outputId": "041a01b0-83d5-4809-cb56-06fc8052bf5c"
      },
      "source": [
        "print(\"PCY:\")\n",
        "print(\"Num freq pairs: \" + str(len(PCY(df_visual, 290, my_hash_fun, 3322131))) + \" \")"
      ],
      "execution_count": null,
      "outputs": [
        {
          "output_type": "stream",
          "text": [
            "PCY:\n",
            "Num Candidates pairs:48234\n",
            "Dim: 2621552\n",
            "Num freq pairs: 26693 \n",
            "time: 4min 43s (started: 2021-06-14 16:17:16 +00:00)\n"
          ],
          "name": "stdout"
        }
      ]
    },
    {
      "cell_type": "code",
      "metadata": {
        "colab": {
          "base_uri": "https://localhost:8080/"
        },
        "id": "LFPEvJRLuFwz",
        "outputId": "78b62162-4ccd-446a-e881-64e86ce65ed7"
      },
      "source": [
        "print(\"PCY:\")\n",
        "\n",
        "print(\"Num freq pairs: \" + str(len(PCY(df_visual, 290, my_hash_fun, 7044262))) + \" \")"
      ],
      "execution_count": null,
      "outputs": [
        {
          "output_type": "stream",
          "text": [
            "PCY:\n",
            "Num Candidates pairs:44893\n",
            "Dim: 2621552\n",
            "Num freq pairs: 26693 \n",
            "time: 4min 44s (started: 2021-06-14 16:21:59 +00:00)\n"
          ],
          "name": "stdout"
        }
      ]
    },
    {
      "cell_type": "code",
      "metadata": {
        "colab": {
          "base_uri": "https://localhost:8080/"
        },
        "id": "vT567wRmJ0vu",
        "outputId": "3880d87c-a504-411a-ed3a-cd5a962c1569"
      },
      "source": [
        "cand_dim = [5.242984, 2.621552, 2.621552]\n",
        "basket_dim = [664426, 3322131, 7044262]\n",
        "plt.plot(basket_dim, cand_dim, '-ro')\n",
        "plt.ylabel('Candidates dim (MB)')\n",
        "plt.xlabel('Basket dim (Num Item)')\n",
        "plt.title('DF movies actors, st = 290')\n",
        "plt.show()"
      ],
      "execution_count": null,
      "outputs": [
        {
          "output_type": "display_data",
          "data": {
            "image/png": "[encoded data removed]",
            "text/plain": [
              "<Figure size 432x288 with 1 Axes>"
            ]
          },
          "metadata": {
            "tags": []
          }
        },
        {
          "output_type": "stream",
          "text": [
            "time: 145 ms (started: 2021-06-14 16:26:44 +00:00)\n"
          ],
          "name": "stdout"
        }
      ]
    },
    {
      "cell_type": "code",
      "metadata": {
        "colab": {
          "base_uri": "https://localhost:8080/"
        },
        "id": "fTy9Vt6nAcBo",
        "outputId": "517ac6a9-7fae-4293-edde-ee774ef5a812"
      },
      "source": [
        "cand_dim = [20.971624, 1.310824, 0.589936]\n",
        "basket_dim = [100000, 500000, 1000000]\n",
        "plt.plot(basket_dim, cand_dim, '-go')\n",
        "cand_dim = [41.943152, 10.485872, 5.242984]\n",
        "basket_dim = [217815, 1089078, 3008156]\n",
        "plt.plot(basket_dim, cand_dim, '-bo')\n",
        "cand_dim = [41.943152,5.242984, 2.621552, 2.621552]\n",
        "basket_dim = [0, 664426, 3322131, 7044262]\n",
        "plt.plot(basket_dim, cand_dim, '-ro')\n",
        "plt.ylabel('Candidate pairs dim (MB)')\n",
        "plt.xlabel('Basket dim (Num Item)')\n",
        "plt.title('DF movies actors, st = 290')\n",
        "plt.legend([\"DF films and actors, st = 20\", \"DF films, st = 28\", \"DF full, st = 290\"])\n",
        "\n",
        "plt.savefig('PCY.png')\n",
        "\n",
        "plt.show()"
      ],
      "execution_count": null,
      "outputs": [
        {
          "output_type": "display_data",
          "data": {
            "image/png": "[encoded data removed]",
            "text/plain": [
              "<Figure size 432x288 with 1 Axes>"
            ]
          },
          "metadata": {
            "tags": []
          }
        },
        {
          "output_type": "stream",
          "text": [
            "time: 239 ms (started: 2021-06-14 16:26:44 +00:00)\n"
          ],
          "name": "stdout"
        }
      ]
    },
    {
      "cell_type": "markdown",
      "metadata": {
        "id": "gzRIOAaPwbpR"
      },
      "source": [
        "### Sampled version"
      ]
    },
    {
      "cell_type": "code",
      "metadata": {
        "colab": {
          "base_uri": "https://localhost:8080/"
        },
        "id": "z2XrB9sPwbpS",
        "outputId": "ce60d048-2256-46f6-d992-83d78a109cb6"
      },
      "source": [
        "print(len(sampled_PCY('./title.principals.tsv/title.principals.tsv', 290, my_hash_fun, 1000000, 0.8)))"
      ],
      "execution_count": null,
      "outputs": [
        {
          "output_type": "stream",
          "text": [
            "Num Candidates pairs:131003\n",
            "Dim: 5242984\n",
            "5990334\n",
            "26187\n",
            "time: 7min 30s (started: 2021-06-16 07:39:05 +00:00)\n"
          ],
          "name": "stdout"
        }
      ]
    },
    {
      "cell_type": "markdown",
      "metadata": {
        "id": "O6N0r4h0xhNf"
      },
      "source": [
        "## SON"
      ]
    },
    {
      "cell_type": "code",
      "metadata": {
        "colab": {
          "base_uri": "https://localhost:8080/"
        },
        "id": "jdZ04HWMtqxg",
        "outputId": "fd7554ad-9059-4e35-9c50-2312ed195081"
      },
      "source": [
        "import psutil\n",
        "\n",
        "print(\"Physical cores:\", psutil.cpu_count(logical=False))\n",
        "print(\"Total cores:\", psutil.cpu_count(logical=True))"
      ],
      "execution_count": null,
      "outputs": [
        {
          "output_type": "stream",
          "text": [
            "Physical cores: 1\n",
            "Total cores: 2\n"
          ],
          "name": "stdout"
        }
      ]
    },
    {
      "cell_type": "markdown",
      "metadata": {
        "id": "m_WR-AUylh5I"
      },
      "source": [
        "### DF movies actors"
      ]
    },
    {
      "cell_type": "code",
      "metadata": {
        "colab": {
          "base_uri": "https://localhost:8080/"
        },
        "id": "Y5aLHyCYrtjL",
        "outputId": "a63c282a-5574-4a73-8b7c-fc23f4b80f57"
      },
      "source": [
        "print(len(SON(df_films_actors, 20, 1)))"
      ],
      "execution_count": null,
      "outputs": [
        {
          "output_type": "stream",
          "text": [
            "1029\n"
          ],
          "name": "stdout"
        }
      ]
    },
    {
      "cell_type": "code",
      "metadata": {
        "colab": {
          "base_uri": "https://localhost:8080/"
        },
        "id": "3J2i-pgAun6L",
        "outputId": "83812326-c1cc-486c-ab4b-10c03ad304d9"
      },
      "source": [
        "print(len(SON(df_films_actors, 20, 4)))"
      ],
      "execution_count": null,
      "outputs": [
        {
          "output_type": "stream",
          "text": [
            "1029\n"
          ],
          "name": "stdout"
        }
      ]
    },
    {
      "cell_type": "code",
      "metadata": {
        "colab": {
          "base_uri": "https://localhost:8080/"
        },
        "id": "GW36ur_jtAOl",
        "outputId": "86614821-9b8c-435f-a514-96a4f34e82af"
      },
      "source": [
        "print(len(SON(df_films_actors, 20, 6)))"
      ],
      "execution_count": null,
      "outputs": [
        {
          "output_type": "stream",
          "text": [
            "1029\n"
          ],
          "name": "stdout"
        }
      ]
    },
    {
      "cell_type": "code",
      "metadata": {
        "colab": {
          "base_uri": "https://localhost:8080/"
        },
        "id": "i20-4yNzlxP3",
        "outputId": "a92afcad-042b-4bda-e8a3-749916b3c4f0"
      },
      "source": [
        "print(len(SON(df_films_actors, 20, 8)))"
      ],
      "execution_count": null,
      "outputs": [
        {
          "output_type": "stream",
          "text": [
            "1029\n"
          ],
          "name": "stdout"
        }
      ]
    },
    {
      "cell_type": "code",
      "metadata": {
        "colab": {
          "base_uri": "https://localhost:8080/"
        },
        "id": "6f8pHMRNmwWD",
        "outputId": "8532add2-4c38-42db-ccdb-33a0686cf0cb"
      },
      "source": [
        "print(len(SON(df_films_actors, 20, 10)))"
      ],
      "execution_count": null,
      "outputs": [
        {
          "output_type": "stream",
          "text": [
            "1029\n"
          ],
          "name": "stdout"
        }
      ]
    },
    {
      "cell_type": "markdown",
      "metadata": {
        "id": "sicljmszl0s9"
      },
      "source": [
        "### DF only movies"
      ]
    },
    {
      "cell_type": "code",
      "metadata": {
        "colab": {
          "base_uri": "https://localhost:8080/"
        },
        "id": "WITBi9ceWwXQ",
        "outputId": "52145d20-5468-4785-df57-d98f2a4d40fe"
      },
      "source": [
        "print(len(SON(df_only_films, 28, 1)))"
      ],
      "execution_count": null,
      "outputs": [
        {
          "output_type": "stream",
          "text": [
            "1700\n"
          ],
          "name": "stdout"
        }
      ]
    },
    {
      "cell_type": "code",
      "metadata": {
        "colab": {
          "base_uri": "https://localhost:8080/"
        },
        "id": "yZNTxGDdWwXR",
        "outputId": "9289b642-5bf6-4086-dbdd-22edbc8da27d"
      },
      "source": [
        "print(len(SON(df_only_films, 28, 4)))"
      ],
      "execution_count": null,
      "outputs": [
        {
          "output_type": "stream",
          "text": [
            "1700\n"
          ],
          "name": "stdout"
        }
      ]
    },
    {
      "cell_type": "code",
      "metadata": {
        "colab": {
          "base_uri": "https://localhost:8080/"
        },
        "id": "nTRF9FvgnFLw",
        "outputId": "08dc8c70-a8c7-4045-df0f-552a3e16bad8"
      },
      "source": [
        "print(len(SON(df_only_films, 28, 6)))"
      ],
      "execution_count": null,
      "outputs": [
        {
          "output_type": "stream",
          "text": [
            "1700\n"
          ],
          "name": "stdout"
        }
      ]
    },
    {
      "cell_type": "code",
      "metadata": {
        "colab": {
          "base_uri": "https://localhost:8080/"
        },
        "id": "yLSheD_Hy_79",
        "outputId": "5d6a6b4a-16aa-4cac-bd6a-b14c09242411"
      },
      "source": [
        "print(len(SON(df_only_films, 28, 8)))"
      ],
      "execution_count": null,
      "outputs": [
        {
          "output_type": "stream",
          "text": [
            "1700\n"
          ],
          "name": "stdout"
        }
      ]
    },
    {
      "cell_type": "code",
      "metadata": {
        "colab": {
          "base_uri": "https://localhost:8080/"
        },
        "id": "NpArlJZZzCWE",
        "outputId": "0a765c7e-044c-4a28-f8f9-00efdcc8ef16"
      },
      "source": [
        "print(len(SON(df_only_films, 28, 10)))"
      ],
      "execution_count": null,
      "outputs": [
        {
          "output_type": "stream",
          "text": [
            "1700\n"
          ],
          "name": "stdout"
        }
      ]
    },
    {
      "cell_type": "markdown",
      "metadata": {
        "id": "U00kxcs4nHKF"
      },
      "source": [
        "### DF Full"
      ]
    },
    {
      "cell_type": "code",
      "metadata": {
        "colab": {
          "base_uri": "https://localhost:8080/",
          "height": 1000
        },
        "id": "9HNhzg3knIqy",
        "outputId": "268f362d-f7c9-48f7-8c1a-0309f85ed8fe"
      },
      "source": [
        "print(len(SON(df_visual, 290, 4)))"
      ],
      "execution_count": null,
      "outputs": [
        {
          "output_type": "stream",
          "text": [
            "----------------------------------------ERROR:root:Exception while sending command.\n",
            "Traceback (most recent call last):\n",
            "  File \"/content/spark-3.1.2-bin-hadoop2.7/python/lib/py4j-0.10.9-src.zip/py4j/java_gateway.py\", line 1207, in send_command\n",
            "    raise Py4JNetworkError(\"Answer from Java side is empty\")\n",
            "py4j.protocol.Py4JNetworkError: Answer from Java side is empty\n",
            "\n",
            "During handling of the above exception, another exception occurred:\n",
            "\n",
            "Traceback (most recent call last):\n",
            "  File \"/content/spark-3.1.2-bin-hadoop2.7/python/lib/py4j-0.10.9-src.zip/py4j/java_gateway.py\", line 1033, in send_command\n",
            "    response = connection.send_command(command)\n",
            "  File \"/content/spark-3.1.2-bin-hadoop2.7/python/lib/py4j-0.10.9-src.zip/py4j/java_gateway.py\", line 1212, in send_command\n",
            "    \"Error while receiving\", e, proto.ERROR_ON_RECEIVE)\n",
            "py4j.protocol.Py4JNetworkError: Error while receiving\n",
            "\n",
            "Exception happened during processing of request from ('127.0.0.1', 44272)\n",
            "ERROR:root:Exception while sending command.\n",
            "Traceback (most recent call last):\n",
            "  File \"/content/spark-3.1.2-bin-hadoop2.7/python/pyspark/rdd.py\", line 949, in collect\n",
            "    sock_info = self.ctx._jvm.PythonRDD.collectAndServe(self._jrdd.rdd())\n",
            "  File \"/content/spark-3.1.2-bin-hadoop2.7/python/lib/py4j-0.10.9-src.zip/py4j/java_gateway.py\", line 1305, in __call__\n",
            "    answer, self.gateway_client, self.target_id, self.name)\n",
            "  File \"/content/spark-3.1.2-bin-hadoop2.7/python/pyspark/sql/utils.py\", line 111, in deco\n",
            "    return f(*a, **kw)\n",
            "  File \"/content/spark-3.1.2-bin-hadoop2.7/python/lib/py4j-0.10.9-src.zip/py4j/protocol.py\", line 336, in get_return_value\n",
            "    format(target_id, \".\", name))\n",
            "py4j.protocol.Py4JError: An error occurred while calling z:org.apache.spark.api.python.PythonRDD.collectAndServe\n",
            "\n",
            "During handling of the above exception, another exception occurred:\n",
            "\n",
            "Traceback (most recent call last):\n",
            "  File \"/content/spark-3.1.2-bin-hadoop2.7/python/lib/py4j-0.10.9-src.zip/py4j/java_gateway.py\", line 1207, in send_command\n",
            "    raise Py4JNetworkError(\"Answer from Java side is empty\")\n",
            "py4j.protocol.Py4JNetworkError: Answer from Java side is empty\n",
            "\n",
            "During handling of the above exception, another exception occurred:\n",
            "\n",
            "Traceback (most recent call last):\n",
            "  File \"/content/spark-3.1.2-bin-hadoop2.7/python/lib/py4j-0.10.9-src.zip/py4j/java_gateway.py\", line 1033, in send_command\n",
            "    response = connection.send_command(command)\n",
            "  File \"/content/spark-3.1.2-bin-hadoop2.7/python/lib/py4j-0.10.9-src.zip/py4j/java_gateway.py\", line 1212, in send_command\n",
            "    \"Error while receiving\", e, proto.ERROR_ON_RECEIVE)\n",
            "py4j.protocol.Py4JNetworkError: Error while receiving\n",
            "Traceback (most recent call last):\n",
            "  File \"/usr/lib/python3.7/socketserver.py\", line 316, in _handle_request_noblock\n",
            "    self.process_request(request, client_address)\n",
            "  File \"/usr/lib/python3.7/socketserver.py\", line 347, in process_request\n",
            "    self.finish_request(request, client_address)\n",
            "  File \"/usr/lib/python3.7/socketserver.py\", line 360, in finish_request\n",
            "    self.RequestHandlerClass(request, client_address, self)\n",
            "  File \"/usr/lib/python3.7/socketserver.py\", line 720, in __init__\n",
            "    self.handle()\n",
            "  File \"/content/spark-3.1.2-bin-hadoop2.7/python/pyspark/accumulators.py\", line 262, in handle\n",
            "    poll(accum_updates)\n",
            "  File \"/content/spark-3.1.2-bin-hadoop2.7/python/pyspark/accumulators.py\", line 235, in poll\n",
            "    if func():\n",
            "  File \"/content/spark-3.1.2-bin-hadoop2.7/python/pyspark/accumulators.py\", line 239, in accum_updates\n",
            "    num_updates = read_int(self.rfile)\n",
            "  File \"/content/spark-3.1.2-bin-hadoop2.7/python/pyspark/serializers.py\", line 564, in read_int\n",
            "    raise EOFError\n",
            "EOFError\n",
            "----------------------------------------\n"
          ],
          "name": "stderr"
        },
        {
          "output_type": "error",
          "ename": "Py4JError",
          "evalue": "ignored",
          "traceback": [
            "\u001b[0;31m---------------------------------------------------------------------------\u001b[0m",
            "\u001b[0;31mPy4JError\u001b[0m                                 Traceback (most recent call last)",
            "\u001b[0;32m/content/spark-3.1.2-bin-hadoop2.7/python/pyspark/rdd.py\u001b[0m in \u001b[0;36mcollect\u001b[0;34m(self)\u001b[0m\n\u001b[1;32m    948\u001b[0m         \u001b[0;32mwith\u001b[0m \u001b[0mSCCallSiteSync\u001b[0m\u001b[0;34m(\u001b[0m\u001b[0mself\u001b[0m\u001b[0;34m.\u001b[0m\u001b[0mcontext\u001b[0m\u001b[0;34m)\u001b[0m \u001b[0;32mas\u001b[0m \u001b[0mcss\u001b[0m\u001b[0;34m:\u001b[0m\u001b[0;34m\u001b[0m\u001b[0;34m\u001b[0m\u001b[0m\n\u001b[0;32m--> 949\u001b[0;31m             \u001b[0msock_info\u001b[0m \u001b[0;34m=\u001b[0m \u001b[0mself\u001b[0m\u001b[0;34m.\u001b[0m\u001b[0mctx\u001b[0m\u001b[0;34m.\u001b[0m\u001b[0m_jvm\u001b[0m\u001b[0;34m.\u001b[0m\u001b[0mPythonRDD\u001b[0m\u001b[0;34m.\u001b[0m\u001b[0mcollectAndServe\u001b[0m\u001b[0;34m(\u001b[0m\u001b[0mself\u001b[0m\u001b[0;34m.\u001b[0m\u001b[0m_jrdd\u001b[0m\u001b[0;34m.\u001b[0m\u001b[0mrdd\u001b[0m\u001b[0;34m(\u001b[0m\u001b[0;34m)\u001b[0m\u001b[0;34m)\u001b[0m\u001b[0;34m\u001b[0m\u001b[0;34m\u001b[0m\u001b[0m\n\u001b[0m\u001b[1;32m    950\u001b[0m         \u001b[0;32mreturn\u001b[0m \u001b[0mlist\u001b[0m\u001b[0;34m(\u001b[0m\u001b[0m_load_from_socket\u001b[0m\u001b[0;34m(\u001b[0m\u001b[0msock_info\u001b[0m\u001b[0;34m,\u001b[0m \u001b[0mself\u001b[0m\u001b[0;34m.\u001b[0m\u001b[0m_jrdd_deserializer\u001b[0m\u001b[0;34m)\u001b[0m\u001b[0;34m)\u001b[0m\u001b[0;34m\u001b[0m\u001b[0;34m\u001b[0m\u001b[0m\n",
            "\u001b[0;32m/content/spark-3.1.2-bin-hadoop2.7/python/lib/py4j-0.10.9-src.zip/py4j/java_gateway.py\u001b[0m in \u001b[0;36m__call__\u001b[0;34m(self, *args)\u001b[0m\n\u001b[1;32m   1304\u001b[0m         return_value = get_return_value(\n\u001b[0;32m-> 1305\u001b[0;31m             answer, self.gateway_client, self.target_id, self.name)\n\u001b[0m\u001b[1;32m   1306\u001b[0m \u001b[0;34m\u001b[0m\u001b[0m\n",
            "\u001b[0;32m/content/spark-3.1.2-bin-hadoop2.7/python/pyspark/sql/utils.py\u001b[0m in \u001b[0;36mdeco\u001b[0;34m(*a, **kw)\u001b[0m\n\u001b[1;32m    110\u001b[0m         \u001b[0;32mtry\u001b[0m\u001b[0;34m:\u001b[0m\u001b[0;34m\u001b[0m\u001b[0;34m\u001b[0m\u001b[0m\n\u001b[0;32m--> 111\u001b[0;31m             \u001b[0;32mreturn\u001b[0m \u001b[0mf\u001b[0m\u001b[0;34m(\u001b[0m\u001b[0;34m*\u001b[0m\u001b[0ma\u001b[0m\u001b[0;34m,\u001b[0m \u001b[0;34m**\u001b[0m\u001b[0mkw\u001b[0m\u001b[0;34m)\u001b[0m\u001b[0;34m\u001b[0m\u001b[0;34m\u001b[0m\u001b[0m\n\u001b[0m\u001b[1;32m    112\u001b[0m         \u001b[0;32mexcept\u001b[0m \u001b[0mpy4j\u001b[0m\u001b[0;34m.\u001b[0m\u001b[0mprotocol\u001b[0m\u001b[0;34m.\u001b[0m\u001b[0mPy4JJavaError\u001b[0m \u001b[0;32mas\u001b[0m \u001b[0me\u001b[0m\u001b[0;34m:\u001b[0m\u001b[0;34m\u001b[0m\u001b[0;34m\u001b[0m\u001b[0m\n",
            "\u001b[0;32m/content/spark-3.1.2-bin-hadoop2.7/python/lib/py4j-0.10.9-src.zip/py4j/protocol.py\u001b[0m in \u001b[0;36mget_return_value\u001b[0;34m(answer, gateway_client, target_id, name)\u001b[0m\n\u001b[1;32m    335\u001b[0m                 \u001b[0;34m\"An error occurred while calling {0}{1}{2}\"\u001b[0m\u001b[0;34m.\u001b[0m\u001b[0;34m\u001b[0m\u001b[0;34m\u001b[0m\u001b[0m\n\u001b[0;32m--> 336\u001b[0;31m                 format(target_id, \".\", name))\n\u001b[0m\u001b[1;32m    337\u001b[0m     \u001b[0;32melse\u001b[0m\u001b[0;34m:\u001b[0m\u001b[0;34m\u001b[0m\u001b[0;34m\u001b[0m\u001b[0m\n",
            "\u001b[0;31mPy4JError\u001b[0m: An error occurred while calling z:org.apache.spark.api.python.PythonRDD.collectAndServe",
            "\nDuring handling of the above exception, another exception occurred:\n",
            "\u001b[0;31mPy4JError\u001b[0m                                 Traceback (most recent call last)",
            "\u001b[0;32m<ipython-input-36-c6959cfd0a4e>\u001b[0m in \u001b[0;36m<module>\u001b[0;34m()\u001b[0m\n\u001b[0;32m----> 1\u001b[0;31m \u001b[0mprint\u001b[0m\u001b[0;34m(\u001b[0m\u001b[0mlen\u001b[0m\u001b[0;34m(\u001b[0m\u001b[0mSON\u001b[0m\u001b[0;34m(\u001b[0m\u001b[0mdf_visual\u001b[0m\u001b[0;34m,\u001b[0m \u001b[0;36m290\u001b[0m\u001b[0;34m,\u001b[0m \u001b[0;36m4\u001b[0m\u001b[0;34m)\u001b[0m\u001b[0;34m)\u001b[0m\u001b[0;34m)\u001b[0m\u001b[0;34m\u001b[0m\u001b[0;34m\u001b[0m\u001b[0m\n\u001b[0m",
            "\u001b[0;32m<ipython-input-18-2c9005803e3d>\u001b[0m in \u001b[0;36mSON\u001b[0;34m(df, support_threshold, num_partitions)\u001b[0m\n\u001b[1;32m     25\u001b[0m \u001b[0;34m\u001b[0m\u001b[0m\n\u001b[1;32m     26\u001b[0m   \u001b[0mpart_st\u001b[0m \u001b[0;34m=\u001b[0m \u001b[0;36m1\u001b[0m\u001b[0;34m/\u001b[0m\u001b[0mnum_partitions\u001b[0m\u001b[0;34m\u001b[0m\u001b[0;34m\u001b[0m\u001b[0m\n\u001b[0;32m---> 27\u001b[0;31m   \u001b[0mfirst_step_candidates\u001b[0m \u001b[0;34m=\u001b[0m \u001b[0mrdd\u001b[0m\u001b[0;34m.\u001b[0m\u001b[0mmapPartitions\u001b[0m\u001b[0;34m(\u001b[0m\u001b[0;32mlambda\u001b[0m \u001b[0mpart\u001b[0m \u001b[0;34m:\u001b[0m \u001b[0mSON_a_priori\u001b[0m\u001b[0;34m(\u001b[0m\u001b[0mpart\u001b[0m\u001b[0;34m,\u001b[0m \u001b[0msupport_threshold\u001b[0m \u001b[0;34m=\u001b[0m \u001b[0mint\u001b[0m\u001b[0;34m(\u001b[0m\u001b[0msupport_threshold\u001b[0m \u001b[0;34m*\u001b[0m \u001b[0mpart_st\u001b[0m\u001b[0;34m)\u001b[0m\u001b[0;34m)\u001b[0m\u001b[0;34m)\u001b[0m\u001b[0;34m.\u001b[0m                              \u001b[0mreduceByKey\u001b[0m\u001b[0;34m(\u001b[0m\u001b[0;32mlambda\u001b[0m \u001b[0mx\u001b[0m\u001b[0;34m,\u001b[0m\u001b[0my\u001b[0m \u001b[0;34m:\u001b[0m \u001b[0mx\u001b[0m\u001b[0;34m)\u001b[0m\u001b[0;34m.\u001b[0m                              \u001b[0mcollect\u001b[0m\u001b[0;34m(\u001b[0m\u001b[0;34m)\u001b[0m\u001b[0;34m\u001b[0m\u001b[0;34m\u001b[0m\u001b[0m\n\u001b[0m\u001b[1;32m     28\u001b[0m   \u001b[0mcandidates\u001b[0m \u001b[0;34m=\u001b[0m \u001b[0mset\u001b[0m\u001b[0;34m(\u001b[0m\u001b[0mmap\u001b[0m\u001b[0;34m(\u001b[0m\u001b[0;32mlambda\u001b[0m \u001b[0mx\u001b[0m \u001b[0;34m:\u001b[0m \u001b[0mx\u001b[0m\u001b[0;34m[\u001b[0m\u001b[0;36m0\u001b[0m\u001b[0;34m]\u001b[0m\u001b[0;34m,\u001b[0m \u001b[0mfirst_step_candidates\u001b[0m\u001b[0;34m)\u001b[0m\u001b[0;34m)\u001b[0m\u001b[0;34m\u001b[0m\u001b[0;34m\u001b[0m\u001b[0m\n\u001b[1;32m     29\u001b[0m   \u001b[0msecond_step\u001b[0m \u001b[0;34m=\u001b[0m \u001b[0mrdd\u001b[0m\u001b[0;34m.\u001b[0m\u001b[0mmapPartitions\u001b[0m\u001b[0;34m(\u001b[0m\u001b[0;32mlambda\u001b[0m \u001b[0mpart\u001b[0m \u001b[0;34m:\u001b[0m \u001b[0mcount_candidates\u001b[0m\u001b[0;34m(\u001b[0m\u001b[0mpart\u001b[0m\u001b[0;34m,\u001b[0m \u001b[0mcandidates\u001b[0m\u001b[0;34m)\u001b[0m\u001b[0;34m)\u001b[0m\u001b[0;34m.\u001b[0m                  \u001b[0mreduceByKey\u001b[0m\u001b[0;34m(\u001b[0m\u001b[0;32mlambda\u001b[0m \u001b[0mx\u001b[0m\u001b[0;34m,\u001b[0m\u001b[0my\u001b[0m \u001b[0;34m:\u001b[0m \u001b[0mx\u001b[0m \u001b[0;34m+\u001b[0m \u001b[0my\u001b[0m\u001b[0;34m)\u001b[0m\u001b[0;34m.\u001b[0m                  \u001b[0mfilter\u001b[0m\u001b[0;34m(\u001b[0m\u001b[0;32mlambda\u001b[0m \u001b[0mx\u001b[0m \u001b[0;34m:\u001b[0m \u001b[0mx\u001b[0m\u001b[0;34m[\u001b[0m\u001b[0;36m1\u001b[0m\u001b[0;34m]\u001b[0m \u001b[0;34m>=\u001b[0m \u001b[0msupport_threshold\u001b[0m\u001b[0;34m)\u001b[0m\u001b[0;34m.\u001b[0m                  \u001b[0mcollect\u001b[0m\u001b[0;34m(\u001b[0m\u001b[0;34m)\u001b[0m\u001b[0;34m\u001b[0m\u001b[0;34m\u001b[0m\u001b[0m\n",
            "\u001b[0;32m/content/spark-3.1.2-bin-hadoop2.7/python/pyspark/rdd.py\u001b[0m in \u001b[0;36mcollect\u001b[0;34m(self)\u001b[0m\n\u001b[1;32m    947\u001b[0m         \"\"\"\n\u001b[1;32m    948\u001b[0m         \u001b[0;32mwith\u001b[0m \u001b[0mSCCallSiteSync\u001b[0m\u001b[0;34m(\u001b[0m\u001b[0mself\u001b[0m\u001b[0;34m.\u001b[0m\u001b[0mcontext\u001b[0m\u001b[0;34m)\u001b[0m \u001b[0;32mas\u001b[0m \u001b[0mcss\u001b[0m\u001b[0;34m:\u001b[0m\u001b[0;34m\u001b[0m\u001b[0;34m\u001b[0m\u001b[0m\n\u001b[0;32m--> 949\u001b[0;31m             \u001b[0msock_info\u001b[0m \u001b[0;34m=\u001b[0m \u001b[0mself\u001b[0m\u001b[0;34m.\u001b[0m\u001b[0mctx\u001b[0m\u001b[0;34m.\u001b[0m\u001b[0m_jvm\u001b[0m\u001b[0;34m.\u001b[0m\u001b[0mPythonRDD\u001b[0m\u001b[0;34m.\u001b[0m\u001b[0mcollectAndServe\u001b[0m\u001b[0;34m(\u001b[0m\u001b[0mself\u001b[0m\u001b[0;34m.\u001b[0m\u001b[0m_jrdd\u001b[0m\u001b[0;34m.\u001b[0m\u001b[0mrdd\u001b[0m\u001b[0;34m(\u001b[0m\u001b[0;34m)\u001b[0m\u001b[0;34m)\u001b[0m\u001b[0;34m\u001b[0m\u001b[0;34m\u001b[0m\u001b[0m\n\u001b[0m\u001b[1;32m    950\u001b[0m         \u001b[0;32mreturn\u001b[0m \u001b[0mlist\u001b[0m\u001b[0;34m(\u001b[0m\u001b[0m_load_from_socket\u001b[0m\u001b[0;34m(\u001b[0m\u001b[0msock_info\u001b[0m\u001b[0;34m,\u001b[0m \u001b[0mself\u001b[0m\u001b[0;34m.\u001b[0m\u001b[0m_jrdd_deserializer\u001b[0m\u001b[0;34m)\u001b[0m\u001b[0;34m)\u001b[0m\u001b[0;34m\u001b[0m\u001b[0;34m\u001b[0m\u001b[0m\n\u001b[1;32m    951\u001b[0m \u001b[0;34m\u001b[0m\u001b[0m\n",
            "\u001b[0;32m/content/spark-3.1.2-bin-hadoop2.7/python/pyspark/traceback_utils.py\u001b[0m in \u001b[0;36m__exit__\u001b[0;34m(self, type, value, tb)\u001b[0m\n\u001b[1;32m     76\u001b[0m         \u001b[0mSCCallSiteSync\u001b[0m\u001b[0;34m.\u001b[0m\u001b[0m_spark_stack_depth\u001b[0m \u001b[0;34m-=\u001b[0m \u001b[0;36m1\u001b[0m\u001b[0;34m\u001b[0m\u001b[0;34m\u001b[0m\u001b[0m\n\u001b[1;32m     77\u001b[0m         \u001b[0;32mif\u001b[0m \u001b[0mSCCallSiteSync\u001b[0m\u001b[0;34m.\u001b[0m\u001b[0m_spark_stack_depth\u001b[0m \u001b[0;34m==\u001b[0m \u001b[0;36m0\u001b[0m\u001b[0;34m:\u001b[0m\u001b[0;34m\u001b[0m\u001b[0;34m\u001b[0m\u001b[0m\n\u001b[0;32m---> 78\u001b[0;31m             \u001b[0mself\u001b[0m\u001b[0;34m.\u001b[0m\u001b[0m_context\u001b[0m\u001b[0;34m.\u001b[0m\u001b[0m_jsc\u001b[0m\u001b[0;34m.\u001b[0m\u001b[0msetCallSite\u001b[0m\u001b[0;34m(\u001b[0m\u001b[0;32mNone\u001b[0m\u001b[0;34m)\u001b[0m\u001b[0;34m\u001b[0m\u001b[0;34m\u001b[0m\u001b[0m\n\u001b[0m",
            "\u001b[0;32m/content/spark-3.1.2-bin-hadoop2.7/python/lib/py4j-0.10.9-src.zip/py4j/java_gateway.py\u001b[0m in \u001b[0;36m__call__\u001b[0;34m(self, *args)\u001b[0m\n\u001b[1;32m   1303\u001b[0m         \u001b[0manswer\u001b[0m \u001b[0;34m=\u001b[0m \u001b[0mself\u001b[0m\u001b[0;34m.\u001b[0m\u001b[0mgateway_client\u001b[0m\u001b[0;34m.\u001b[0m\u001b[0msend_command\u001b[0m\u001b[0;34m(\u001b[0m\u001b[0mcommand\u001b[0m\u001b[0;34m)\u001b[0m\u001b[0;34m\u001b[0m\u001b[0;34m\u001b[0m\u001b[0m\n\u001b[1;32m   1304\u001b[0m         return_value = get_return_value(\n\u001b[0;32m-> 1305\u001b[0;31m             answer, self.gateway_client, self.target_id, self.name)\n\u001b[0m\u001b[1;32m   1306\u001b[0m \u001b[0;34m\u001b[0m\u001b[0m\n\u001b[1;32m   1307\u001b[0m         \u001b[0;32mfor\u001b[0m \u001b[0mtemp_arg\u001b[0m \u001b[0;32min\u001b[0m \u001b[0mtemp_args\u001b[0m\u001b[0;34m:\u001b[0m\u001b[0;34m\u001b[0m\u001b[0;34m\u001b[0m\u001b[0m\n",
            "\u001b[0;32m/content/spark-3.1.2-bin-hadoop2.7/python/pyspark/sql/utils.py\u001b[0m in \u001b[0;36mdeco\u001b[0;34m(*a, **kw)\u001b[0m\n\u001b[1;32m    109\u001b[0m     \u001b[0;32mdef\u001b[0m \u001b[0mdeco\u001b[0m\u001b[0;34m(\u001b[0m\u001b[0;34m*\u001b[0m\u001b[0ma\u001b[0m\u001b[0;34m,\u001b[0m \u001b[0;34m**\u001b[0m\u001b[0mkw\u001b[0m\u001b[0;34m)\u001b[0m\u001b[0;34m:\u001b[0m\u001b[0;34m\u001b[0m\u001b[0;34m\u001b[0m\u001b[0m\n\u001b[1;32m    110\u001b[0m         \u001b[0;32mtry\u001b[0m\u001b[0;34m:\u001b[0m\u001b[0;34m\u001b[0m\u001b[0;34m\u001b[0m\u001b[0m\n\u001b[0;32m--> 111\u001b[0;31m             \u001b[0;32mreturn\u001b[0m \u001b[0mf\u001b[0m\u001b[0;34m(\u001b[0m\u001b[0;34m*\u001b[0m\u001b[0ma\u001b[0m\u001b[0;34m,\u001b[0m \u001b[0;34m**\u001b[0m\u001b[0mkw\u001b[0m\u001b[0;34m)\u001b[0m\u001b[0;34m\u001b[0m\u001b[0;34m\u001b[0m\u001b[0m\n\u001b[0m\u001b[1;32m    112\u001b[0m         \u001b[0;32mexcept\u001b[0m \u001b[0mpy4j\u001b[0m\u001b[0;34m.\u001b[0m\u001b[0mprotocol\u001b[0m\u001b[0;34m.\u001b[0m\u001b[0mPy4JJavaError\u001b[0m \u001b[0;32mas\u001b[0m \u001b[0me\u001b[0m\u001b[0;34m:\u001b[0m\u001b[0;34m\u001b[0m\u001b[0;34m\u001b[0m\u001b[0m\n\u001b[1;32m    113\u001b[0m             \u001b[0mconverted\u001b[0m \u001b[0;34m=\u001b[0m \u001b[0mconvert_exception\u001b[0m\u001b[0;34m(\u001b[0m\u001b[0me\u001b[0m\u001b[0;34m.\u001b[0m\u001b[0mjava_exception\u001b[0m\u001b[0;34m)\u001b[0m\u001b[0;34m\u001b[0m\u001b[0;34m\u001b[0m\u001b[0m\n",
            "\u001b[0;32m/content/spark-3.1.2-bin-hadoop2.7/python/lib/py4j-0.10.9-src.zip/py4j/protocol.py\u001b[0m in \u001b[0;36mget_return_value\u001b[0;34m(answer, gateway_client, target_id, name)\u001b[0m\n\u001b[1;32m    334\u001b[0m             raise Py4JError(\n\u001b[1;32m    335\u001b[0m                 \u001b[0;34m\"An error occurred while calling {0}{1}{2}\"\u001b[0m\u001b[0;34m.\u001b[0m\u001b[0;34m\u001b[0m\u001b[0;34m\u001b[0m\u001b[0m\n\u001b[0;32m--> 336\u001b[0;31m                 format(target_id, \".\", name))\n\u001b[0m\u001b[1;32m    337\u001b[0m     \u001b[0;32melse\u001b[0m\u001b[0;34m:\u001b[0m\u001b[0;34m\u001b[0m\u001b[0;34m\u001b[0m\u001b[0m\n\u001b[1;32m    338\u001b[0m         \u001b[0mtype\u001b[0m \u001b[0;34m=\u001b[0m \u001b[0manswer\u001b[0m\u001b[0;34m[\u001b[0m\u001b[0;36m1\u001b[0m\u001b[0;34m]\u001b[0m\u001b[0;34m\u001b[0m\u001b[0;34m\u001b[0m\u001b[0m\n",
            "\u001b[0;31mPy4JError\u001b[0m: An error occurred while calling o14.setCallSite"
          ]
        }
      ]
    },
    {
      "cell_type": "markdown",
      "metadata": {
        "id": "7BRNV7Ga2Yu2"
      },
      "source": [
        "### Plot"
      ]
    },
    {
      "cell_type": "code",
      "metadata": {
        "id": "sQxo6Xb9qW91"
      },
      "source": [
        "time_df1 = [11.8, 10.2, 12.1, 15.4, 17.6]\n",
        "time_df2 = [32.8, 25.4, 28.1, 30.6, 45]\n",
        "# time_df3 = [11.8, 10.2, 12.1, 15.4, 17.6]\n",
        "num_part = [1, 4, 6, 8, 10]\n",
        "plt.plot(num_part, time_df1, '-r')\n",
        "plt.plot(num_part, time_df2, '-g')\n",
        "plt.plot((4.3),'bo')\n",
        "plt.plot((10.2),'o')\n",
        "\n",
        "plt.ylabel('Time (s)')\n",
        "plt.xlabel('Number of partitions')\n",
        "plt.legend([\"SON movies actors, st = 20\",\"SON movies, st = 28\",\"A Priori movies actors, st = 20\", \"A Priori movies, st = 28\"], bbox_to_anchor=(0.6, 1.165), fancybox=True)\n",
        "plt.savefig('SON.png')\n",
        "\n",
        "plt.show()"
      ],
      "execution_count": null,
      "outputs": []
    },
    {
      "cell_type": "markdown",
      "metadata": {
        "id": "xMfsSSsCdssh"
      },
      "source": [
        "## Toivonen"
      ]
    },
    {
      "cell_type": "markdown",
      "metadata": {
        "id": "Z7JQ6YWe-KRE"
      },
      "source": [
        "### DF films actors"
      ]
    },
    {
      "cell_type": "code",
      "metadata": {
        "colab": {
          "base_uri": "https://localhost:8080/"
        },
        "id": "rzd5qPiPsie5",
        "outputId": "6db4ca91-0b6f-4048-a98a-c04e775a1afb"
      },
      "source": [
        "for i in range(10):\n",
        "  start = time.time()\n",
        "  res = toivonen(df_films_actors, 80, 0.6, 0.8)  \n",
        "  if res:\n",
        "    print(str(len(res)) + \" , time: \" + str(\"%.2f\" % (time.time() - start)))\n",
        "  else:\n",
        "    print(\"No result, time: \" + str(\"%.2f\" % (time.time() - start)))"
      ],
      "execution_count": null,
      "outputs": [
        {
          "output_type": "stream",
          "text": [
            "Time for sampling: 2.042381525039673\n",
            "No result, time: 9.89\n",
            "Time for sampling: 1.801177740097046\n",
            "No result, time: 9.47\n",
            "Time for sampling: 1.8162503242492676\n",
            "No result, time: 9.48\n",
            "Time for sampling: 1.8224949836730957\n",
            "No result, time: 9.54\n",
            "Time for sampling: 1.8161585330963135\n",
            "25 , time: 9.52\n",
            "Time for sampling: 1.8175995349884033\n",
            "No result, time: 9.47\n",
            "Time for sampling: 1.8134305477142334\n",
            "No result, time: 9.42\n",
            "Time for sampling: 1.7538049221038818\n",
            "25 , time: 9.47\n",
            "Time for sampling: 1.7623693943023682\n",
            "No result, time: 9.38\n",
            "Time for sampling: 1.798091173171997\n",
            "25 , time: 9.49\n",
            "time: 1min 35s (started: 2021-06-14 19:02:57 +00:00)\n"
          ],
          "name": "stdout"
        }
      ]
    },
    {
      "cell_type": "code",
      "metadata": {
        "colab": {
          "base_uri": "https://localhost:8080/"
        },
        "id": "Ryt5VOSc5URx",
        "outputId": "10c4e2b6-6452-4b9f-c38c-019812890599"
      },
      "source": [
        "for i in range(10):\n",
        "  start = time.time()\n",
        "  res = toivonen(df_films_actors, 100, 0.5, 0.8)  \n",
        "  if res:\n",
        "    print(str(len(res)) + \" , time: \" + str(time.time() - start))\n",
        "  else:\n",
        "    print(\"No result\" + str(time.time() - start))"
      ],
      "execution_count": null,
      "outputs": [
        {
          "output_type": "stream",
          "text": [
            "Time for sampling: 1.998781681060791\n",
            "No result9.073845863342285\n",
            "Time for sampling: 1.9606869220733643\n",
            "No result9.195152759552002\n",
            "Time for sampling: 1.9293546676635742\n",
            "No result9.060336828231812\n",
            "Time for sampling: 1.9631717205047607\n",
            "No result9.18625545501709\n",
            "Time for sampling: 1.9441840648651123\n",
            "No result9.046992063522339\n",
            "Time for sampling: 1.959244966506958\n",
            "No result9.042151689529419\n",
            "Time for sampling: 1.923858404159546\n",
            "No result9.127630472183228\n",
            "Time for sampling: 1.922555685043335\n",
            "No result9.173765420913696\n",
            "Time for sampling: 1.960766077041626\n",
            "No result9.236297369003296\n",
            "Time for sampling: 1.9475376605987549\n",
            "No result9.136834859848022\n",
            "time: 1min 31s (started: 2021-06-14 19:04:32 +00:00)\n"
          ],
          "name": "stdout"
        }
      ]
    },
    {
      "cell_type": "code",
      "metadata": {
        "colab": {
          "base_uri": "https://localhost:8080/"
        },
        "id": "_scCmuT6-kEc",
        "outputId": "d4d59dd0-9952-4cd5-e595-85dca89fb098"
      },
      "source": [
        "for i in range(10):\n",
        "  start = time.time()\n",
        "  res = toivonen(df_films_actors, 120, 0.4, 0.8)  \n",
        "  if res:\n",
        "    print(str(len(res)) + \" , time: \" + str(time.time() - start))\n",
        "  else:\n",
        "    print(\"No result\" + str(time.time() - start))"
      ],
      "execution_count": null,
      "outputs": [
        {
          "output_type": "stream",
          "text": [
            "Time for sampling: 1.875411033630371\n",
            "No result8.581810474395752\n",
            "Time for sampling: 1.855759859085083\n",
            "No result8.635251998901367\n",
            "Time for sampling: 1.8300533294677734\n",
            "No result8.57957124710083\n",
            "Time for sampling: 1.8350393772125244\n",
            "6 , time: 8.6875479221344\n",
            "Time for sampling: 1.8558220863342285\n",
            "No result8.58965802192688\n",
            "Time for sampling: 1.8336234092712402\n",
            "No result8.614153385162354\n",
            "Time for sampling: 1.8678631782531738\n",
            "No result8.565728425979614\n",
            "Time for sampling: 1.854503870010376\n",
            "No result8.632659196853638\n",
            "Time for sampling: 1.865107774734497\n",
            "No result8.61565375328064\n",
            "Time for sampling: 1.8497562408447266\n",
            "No result8.589053869247437\n",
            "time: 1min 26s (started: 2021-06-14 19:06:03 +00:00)\n"
          ],
          "name": "stdout"
        }
      ]
    },
    {
      "cell_type": "markdown",
      "metadata": {
        "id": "Ar4Z17oF-OjE"
      },
      "source": [
        "### DF only films "
      ]
    },
    {
      "cell_type": "code",
      "metadata": {
        "colab": {
          "base_uri": "https://localhost:8080/"
        },
        "id": "9GYwLbb15X3a",
        "outputId": "a223f3ae-3947-4bf2-cb4c-5a843c062658"
      },
      "source": [
        "for i in range(10):\n",
        "  start = time.time()\n",
        "  res = toivonen(df_only_films, 100, 0.6, 0.8)  \n",
        "  if res:\n",
        "    print(str(len(res)) + \" , time: \" + str(\"%.2f\" % (time.time() - start)))\n",
        "  else:\n",
        "    print(\"No result\" + str(\"%.2f\" % (time.time() - start)))"
      ],
      "execution_count": null,
      "outputs": [
        {
          "output_type": "stream",
          "text": [
            "Time for sampling: 2.5143351554870605\n",
            "No result24.02\n",
            "Time for sampling: 2.479419231414795\n",
            "42 , time: 23.77\n",
            "Time for sampling: 2.459909439086914\n",
            "42 , time: 23.45\n",
            "Time for sampling: 2.4836955070495605\n",
            "42 , time: 23.60\n",
            "Time for sampling: 2.4299867153167725\n",
            "42 , time: 23.43\n",
            "Time for sampling: 2.5347208976745605\n",
            "No result23.61\n",
            "Time for sampling: 2.460509777069092\n",
            "No result23.55\n",
            "Time for sampling: 2.4658825397491455\n",
            "42 , time: 23.75\n",
            "Time for sampling: 2.4967002868652344\n",
            "42 , time: 23.69\n",
            "Time for sampling: 2.472914934158325\n",
            "42 , time: 23.58\n",
            "time: 3min 56s (started: 2021-06-14 19:07:29 +00:00)\n"
          ],
          "name": "stdout"
        }
      ]
    },
    {
      "cell_type": "code",
      "metadata": {
        "colab": {
          "base_uri": "https://localhost:8080/"
        },
        "id": "Kjxs_CLQtSWi",
        "outputId": "7425022d-518e-437b-e8e0-10e341225503"
      },
      "source": [
        "for i in range(10):\n",
        "  start = time.time()\n",
        "  res = toivonen(df_only_films, 130, 0.5, 0.8)  \n",
        "  if res:\n",
        "    print(str(len(res)) + \" , time: \" + str(\"%.2f\" % (time.time() - start)))\n",
        "  else:\n",
        "    print(\"No result, time: \" + str(\"%.2f\" % (time.time() - start)))"
      ],
      "execution_count": null,
      "outputs": [
        {
          "output_type": "stream",
          "text": [
            "Time for sampling: 2.567094326019287\n",
            "17 , time: 22.45\n",
            "Time for sampling: 2.567736864089966\n",
            "17 , time: 22.37\n",
            "Time for sampling: 2.5039801597595215\n",
            "No result, time: 22.24\n",
            "Time for sampling: 2.545482873916626\n",
            "17 , time: 22.37\n",
            "Time for sampling: 2.521592378616333\n",
            "No result, time: 22.16\n",
            "Time for sampling: 2.517610549926758\n",
            "17 , time: 22.31\n",
            "Time for sampling: 2.5375516414642334\n",
            "No result, time: 22.19\n",
            "Time for sampling: 2.565732955932617\n",
            "17 , time: 22.46\n",
            "Time for sampling: 2.55399751663208\n",
            "17 , time: 22.54\n",
            "Time for sampling: 2.5213775634765625\n",
            "No result, time: 22.07\n",
            "time: 3min 43s (started: 2021-06-14 19:11:26 +00:00)\n"
          ],
          "name": "stdout"
        }
      ]
    },
    {
      "cell_type": "code",
      "metadata": {
        "colab": {
          "base_uri": "https://localhost:8080/"
        },
        "id": "-Pcs9eP5AQv6",
        "outputId": "b9a000b0-0491-404e-c8f0-585edcc65dd2"
      },
      "source": [
        "for i in range(10):\n",
        "  start = time.time()\n",
        "  res = toivonen(df_only_films, 160, 0.4, 0.8)  \n",
        "  if res:\n",
        "    print(str(len(res)) + \" , time: \" + str(\"%.2f\" % (time.time() - start)))\n",
        "  else:\n",
        "    print(\"No result, time: \" + str(\"%.2f\" % (time.time() - start)))"
      ],
      "execution_count": null,
      "outputs": [
        {
          "output_type": "stream",
          "text": [
            "Time for sampling: 2.592860221862793\n",
            "No result, time: 21.29\n",
            "Time for sampling: 2.5417728424072266\n",
            "No result, time: 21.17\n",
            "Time for sampling: 2.53969144821167\n",
            "No result, time: 21.10\n",
            "Time for sampling: 2.559075117111206\n",
            "No result, time: 21.40\n",
            "Time for sampling: 2.551494836807251\n",
            "7 , time: 21.41\n",
            "Time for sampling: 2.5382907390594482\n",
            "No result, time: 21.20\n",
            "Time for sampling: 2.5668413639068604\n",
            "No result, time: 21.10\n",
            "Time for sampling: 2.56337308883667\n",
            "7 , time: 21.19\n",
            "Time for sampling: 2.5435791015625\n",
            "No result, time: 21.28\n",
            "Time for sampling: 2.567152976989746\n",
            "No result, time: 21.26\n",
            "time: 3min 32s (started: 2021-06-14 19:15:09 +00:00)\n"
          ],
          "name": "stdout"
        }
      ]
    },
    {
      "cell_type": "markdown",
      "metadata": {
        "id": "KNqeRFNu-RaO"
      },
      "source": [
        "### DF full"
      ]
    },
    {
      "cell_type": "code",
      "metadata": {
        "colab": {
          "base_uri": "https://localhost:8080/"
        },
        "id": "AkWuoPiYi2UQ",
        "outputId": "11fe2ffa-06a4-4f9e-fc7e-50dba792f612"
      },
      "source": [
        "for i in range(10):\n",
        "  start = time.time()\n",
        "  res = toivonen(df_visual, 900, 0.4, 0.9)  \n",
        "  if res:\n",
        "    print(str(len(res)) + \" , time: \" + str(\"%.2f\" % (time.time() - start)))\n",
        "  else:\n",
        "    print(\"No result\" + str(\"%.2f\" % (time.time() - start)))"
      ],
      "execution_count": null,
      "outputs": [
        {
          "output_type": "stream",
          "text": [
            "Time for sampling: 28.930926084518433\n",
            "No result211.83\n",
            "Time for sampling: 28.2190101146698\n",
            "3488 , time: 210.74\n",
            "Time for sampling: 27.96038293838501\n",
            "3488 , time: 211.60\n",
            "Time for sampling: 28.137105703353882\n",
            "3488 , time: 212.50\n",
            "Time for sampling: 28.084845542907715\n",
            "No result210.08\n",
            "Time for sampling: 27.603060722351074\n",
            "No result208.20\n",
            "Time for sampling: 28.77798295021057\n",
            "3488 , time: 208.50\n",
            "Time for sampling: 28.00181484222412\n",
            "3488 , time: 208.34\n",
            "Time for sampling: 27.970293283462524\n",
            "No result205.98\n",
            "Time for sampling: 27.72694969177246\n",
            "No result204.64\n",
            "time: 34min 52s (started: 2021-06-14 19:18:41 +00:00)\n"
          ],
          "name": "stdout"
        }
      ]
    },
    {
      "cell_type": "code",
      "metadata": {
        "colab": {
          "base_uri": "https://localhost:8080/"
        },
        "id": "UU2hfxTu5aJU",
        "outputId": "fb6d1aa9-8aba-428d-82fe-cf0ec96d2edb"
      },
      "source": [
        "for i in range(10):\n",
        "  start = time.time()\n",
        "  res = toivonen(df_visual, 1200, 0.3, 0.9)  \n",
        "  if res:\n",
        "    print(str(len(res)) + \" , time: \" + str(\"%.2f\" % (time.time() - start)))\n",
        "  else:\n",
        "    print(\"No result\" + str(\"%.2f\" % (time.time() - start)))"
      ],
      "execution_count": null,
      "outputs": [
        {
          "output_type": "stream",
          "text": [
            "Time for sampling: 27.872518062591553\n",
            "No result191.51\n",
            "Time for sampling: 27.80534601211548\n",
            "No result188.93\n",
            "Time for sampling: 27.642632722854614\n",
            "1817 , time: 189.36\n",
            "Time for sampling: 27.496355533599854\n",
            "No result191.06\n",
            "Time for sampling: 28.270933866500854\n",
            "No result188.32\n",
            "Time for sampling: 28.214771270751953\n",
            "No result188.58\n",
            "Time for sampling: 28.319875717163086\n",
            "1817 , time: 192.25\n",
            "Time for sampling: 30.506987810134888\n",
            "1817 , time: 192.68\n",
            "Time for sampling: 29.2321994304657\n",
            "1817 , time: 196.24\n",
            "Time for sampling: 29.4410343170166\n",
            "No result194.16\n",
            "time: 31min 53s (started: 2021-06-14 20:26:51 +00:00)\n"
          ],
          "name": "stdout"
        }
      ]
    },
    {
      "cell_type": "code",
      "metadata": {
        "id": "WMcXqL-GAeQ0",
        "colab": {
          "base_uri": "https://localhost:8080/"
        },
        "outputId": "25f3df62-ea26-4132-cd0a-aca942576087"
      },
      "source": [
        "for i in range(10):\n",
        "  start = time.time()\n",
        "  res = toivonen(df_visual, 1400, 0.3, 0.9 )  \n",
        "  if res:\n",
        "    print(str(len(res)) + \" , time: \" + str(\"%.2f\" % (time.time() - start)))\n",
        "  else:\n",
        "    print(\"No result\" + str(\"%.2f\" % (time.time() - start)))"
      ],
      "execution_count": null,
      "outputs": [
        {
          "output_type": "stream",
          "text": [
            "Time for sampling: 28.973427057266235\n",
            "No result192.01\n",
            "Time for sampling: 29.152103424072266\n",
            "1206 , time: 187.62\n",
            "Time for sampling: 28.82076907157898\n",
            "1206 , time: 191.61\n",
            "Time for sampling: 28.775410413742065\n",
            "1206 , time: 191.35\n",
            "Time for sampling: 29.389435529708862\n",
            "1206 , time: 191.75\n",
            "Time for sampling: 29.006077527999878\n",
            "1206 , time: 192.28\n",
            "Time for sampling: 29.275707006454468\n",
            "1206 , time: 192.61\n",
            "Time for sampling: 29.344544649124146\n",
            "1206 , time: 192.77\n",
            "Time for sampling: 29.218058109283447\n",
            "1206 , time: 189.04\n",
            "Time for sampling: 29.112985134124756\n",
            "No result187.35\n",
            "time: 31min 48s (started: 2021-06-14 20:58:44 +00:00)\n"
          ],
          "name": "stdout"
        }
      ]
    },
    {
      "cell_type": "markdown",
      "metadata": {
        "id": "VK42o7k4_fDc"
      },
      "source": [
        "## Plot"
      ]
    },
    {
      "cell_type": "code",
      "metadata": {
        "colab": {
          "base_uri": "https://localhost:8080/",
          "height": 337
        },
        "id": "Jy1-cmhM_gcg",
        "outputId": "55109065-09d4-4774-f0af-b78f17544960"
      },
      "source": [
        "plt.figure(figsize=[8, 5])\n",
        "a_pr = [98, 11.5, 4.81]\n",
        "pcy = [256, 31.2, 10]\n",
        "son = [245,25.4,10.2]\n",
        "toiv = [210, 24, 9.3]\n",
        "\n",
        "X = np.arange(len(a_pr))\n",
        "plt.bar(X, a_pr, color = 'r', edgecolor = 'black', width = 0.16)\n",
        "plt.bar(X + 0.18, pcy, color = 'g', edgecolor = 'black', width = 0.16)\n",
        "plt.bar(X + 2 * 0.180, son, color = 'b', edgecolor = 'black', width = 0.16)\n",
        "plt.bar(X + 3 * 0.18, pcy, color = 'yellow', edgecolor = 'black', width = 0.16)\n",
        "plt.xticks([i + 0.25 for i in range(3)], ['DF Full', 'DF Movies', 'DF Movies Actors'])\n",
        "\n",
        "plt.legend(['A Priori', 'PCY','SON', 'Toivonen'])\n",
        "plt.ylabel('Time (s)')\n",
        "# Displaying the bar plot\n",
        "plt.savefig('time_res.png')\n",
        "plt.show()"
      ],
      "execution_count": null,
      "outputs": [
        {
          "output_type": "display_data",
          "data": {
            "image/png": "[encoded data removed]",
            "text/plain": [
              "<Figure size 576x360 with 1 Axes>"
            ]
          },
          "metadata": {
            "tags": []
          }
        },
        {
          "output_type": "stream",
          "text": [
            "time: 222 ms (started: 2021-06-14 12:45:34 +00:00)\n"
          ],
          "name": "stdout"
        }
      ]
    },
    {
      "cell_type": "markdown",
      "metadata": {
        "id": "0P2lZayMErQA"
      },
      "source": [
        "# *DEBUG* \n",
        "\n",
        "In this cells there is the code in order to see different informations about the most frequent pairs"
      ]
    },
    {
      "cell_type": "code",
      "metadata": {
        "colab": {
          "base_uri": "https://localhost:8080/"
        },
        "id": "OdTuk6232xP8",
        "outputId": "cff61c3d-c63d-41ef-b8c6-90945fa9ac59"
      },
      "source": [
        "names = pd.read_csv('./name.basics.tsv/name.basics.tsv',\n",
        "                    sep='\\t')\n",
        "films = pd.read_csv('./title.basics.tsv/title.basics.tsv',   \n",
        "                        usecols= ['tconst','titleType', 'primaryTitle',  'startYear'], \n",
        "                        sep='\\t')"
      ],
      "execution_count": null,
      "outputs": [
        {
          "output_type": "stream",
          "text": [
            "/usr/local/lib/python3.7/dist-packages/IPython/core/interactiveshell.py:2718: DtypeWarning: Columns (5) have mixed types.Specify dtype option on import or set low_memory=False.\n",
            "  interactivity=interactivity, compiler=compiler, result=result)\n"
          ],
          "name": "stderr"
        },
        {
          "output_type": "stream",
          "text": [
            "time: 44.3 s (started: 2021-06-16 08:17:00 +00:00)\n"
          ],
          "name": "stdout"
        }
      ]
    },
    {
      "cell_type": "code",
      "metadata": {
        "colab": {
          "base_uri": "https://localhost:8080/"
        },
        "id": "VHZQXEmg-M2G",
        "outputId": "dc6ef3a8-5074-4363-c7a1-cc683e7bc880"
      },
      "source": [
        "def get_information(res):\n",
        "  max = (0,0)\n",
        "  for i in res:\n",
        "    if i[1] > max[1]:\n",
        "      max = i\n",
        "  person = max[0][0]\n",
        "  print(\"Actor names:\")\n",
        "  for i in max[0]:\n",
        "    display(names.loc[names['nconst'] == i])\n",
        "  print(\"\\n Number of times they appear together: \" + str(max[1]))\n",
        "  title = df_visual.loc[df_visual['nconst'] == person].values[0][0]\n",
        "  print(\"\\n One film he worked on:\")\n",
        "  display(films.loc[films['tconst'] == title])\n",
        "  return"
      ],
      "execution_count": null,
      "outputs": [
        {
          "output_type": "stream",
          "text": [
            "time: 8.23 ms (started: 2021-06-16 08:17:44 +00:00)\n"
          ],
          "name": "stdout"
        }
      ]
    },
    {
      "cell_type": "code",
      "metadata": {
        "id": "ZiZPFYGbZuQm",
        "colab": {
          "base_uri": "https://localhost:8080/",
          "height": 339
        },
        "outputId": "246cb53e-a752-4520-bb67-dcaeef2111d0"
      },
      "source": [
        "get_information(a_priori(df_films_actors, 20))"
      ],
      "execution_count": null,
      "outputs": [
        {
          "output_type": "stream",
          "text": [
            "Num Candidates pairs:382224\n",
            "Dim: 20971624 bytes \n",
            "Actor names:\n"
          ],
          "name": "stdout"
        },
        {
          "output_type": "display_data",
          "data": {
            "text/html": [
              "<div>\n",
              "<style scoped>\n",
              "    .dataframe tbody tr th:only-of-type {\n",
              "        vertical-align: middle;\n",
              "    }\n",
              "\n",
              "    .dataframe tbody tr th {\n",
              "        vertical-align: top;\n",
              "    }\n",
              "\n",
              "    .dataframe thead th {\n",
              "        text-align: right;\n",
              "    }\n",
              "</style>\n",
              "<table border=\"1\" class=\"dataframe\">\n",
              "  <thead>\n",
              "    <tr style=\"text-align: right;\">\n",
              "      <th></th>\n",
              "      <th>nconst</th>\n",
              "      <th>primaryName</th>\n",
              "      <th>birthYear</th>\n",
              "      <th>deathYear</th>\n",
              "      <th>primaryProfession</th>\n",
              "      <th>knownForTitles</th>\n",
              "    </tr>\n",
              "  </thead>\n",
              "  <tbody>\n",
              "    <tr>\n",
              "      <th>589876</th>\n",
              "      <td>nm0623427</td>\n",
              "      <td>Prem Nazir</td>\n",
              "      <td>1926</td>\n",
              "      <td>1989</td>\n",
              "      <td>actor</td>\n",
              "      <td>tt0279309,tt0318122,tt0257461,tt0334137</td>\n",
              "    </tr>\n",
              "  </tbody>\n",
              "</table>\n",
              "</div>"
            ],
            "text/plain": [
              "           nconst  ...                           knownForTitles\n",
              "589876  nm0623427  ...  tt0279309,tt0318122,tt0257461,tt0334137\n",
              "\n",
              "[1 rows x 6 columns]"
            ]
          },
          "metadata": {
            "tags": []
          }
        },
        {
          "output_type": "display_data",
          "data": {
            "text/html": [
              "<div>\n",
              "<style scoped>\n",
              "    .dataframe tbody tr th:only-of-type {\n",
              "        vertical-align: middle;\n",
              "    }\n",
              "\n",
              "    .dataframe tbody tr th {\n",
              "        vertical-align: top;\n",
              "    }\n",
              "\n",
              "    .dataframe thead th {\n",
              "        text-align: right;\n",
              "    }\n",
              "</style>\n",
              "<table border=\"1\" class=\"dataframe\">\n",
              "  <thead>\n",
              "    <tr style=\"text-align: right;\">\n",
              "      <th></th>\n",
              "      <th>nconst</th>\n",
              "      <th>primaryName</th>\n",
              "      <th>birthYear</th>\n",
              "      <th>deathYear</th>\n",
              "      <th>primaryProfession</th>\n",
              "      <th>knownForTitles</th>\n",
              "    </tr>\n",
              "  </thead>\n",
              "  <tbody>\n",
              "    <tr>\n",
              "      <th>6957</th>\n",
              "      <td>nm0006982</td>\n",
              "      <td>Adoor Bhasi</td>\n",
              "      <td>1929</td>\n",
              "      <td>1990</td>\n",
              "      <td>actor,director,music_department</td>\n",
              "      <td>tt0155472,tt0156920,tt0268954,tt0282889</td>\n",
              "    </tr>\n",
              "  </tbody>\n",
              "</table>\n",
              "</div>"
            ],
            "text/plain": [
              "         nconst  ...                           knownForTitles\n",
              "6957  nm0006982  ...  tt0155472,tt0156920,tt0268954,tt0282889\n",
              "\n",
              "[1 rows x 6 columns]"
            ]
          },
          "metadata": {
            "tags": []
          }
        },
        {
          "output_type": "stream",
          "text": [
            "\n",
            " Number of times they appear together: 237\n",
            "\n",
            " One film he worked on:\n"
          ],
          "name": "stdout"
        },
        {
          "output_type": "display_data",
          "data": {
            "text/html": [
              "<div>\n",
              "<style scoped>\n",
              "    .dataframe tbody tr th:only-of-type {\n",
              "        vertical-align: middle;\n",
              "    }\n",
              "\n",
              "    .dataframe tbody tr th {\n",
              "        vertical-align: top;\n",
              "    }\n",
              "\n",
              "    .dataframe thead th {\n",
              "        text-align: right;\n",
              "    }\n",
              "</style>\n",
              "<table border=\"1\" class=\"dataframe\">\n",
              "  <thead>\n",
              "    <tr style=\"text-align: right;\">\n",
              "      <th></th>\n",
              "      <th>tconst</th>\n",
              "      <th>titleType</th>\n",
              "      <th>primaryTitle</th>\n",
              "      <th>startYear</th>\n",
              "    </tr>\n",
              "  </thead>\n",
              "  <tbody>\n",
              "    <tr>\n",
              "      <th>58977</th>\n",
              "      <td>tt0060105</td>\n",
              "      <td>movie</td>\n",
              "      <td>Anarkali</td>\n",
              "      <td>1966</td>\n",
              "    </tr>\n",
              "  </tbody>\n",
              "</table>\n",
              "</div>"
            ],
            "text/plain": [
              "          tconst titleType primaryTitle startYear\n",
              "58977  tt0060105     movie     Anarkali      1966"
            ]
          },
          "metadata": {
            "tags": []
          }
        },
        {
          "output_type": "stream",
          "text": [
            "time: 10.7 s (started: 2021-06-16 08:17:44 +00:00)\n"
          ],
          "name": "stdout"
        }
      ]
    }
  ]
}